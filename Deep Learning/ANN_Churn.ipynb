{
 "cells": [
  {
   "cell_type": "markdown",
   "id": "237fef3d",
   "metadata": {},
   "source": [
    "### Churn Classification (Artificial Neural Network)"
   ]
  },
  {
   "cell_type": "code",
   "execution_count": 89,
   "id": "584b5fe0",
   "metadata": {},
   "outputs": [],
   "source": [
    "import tensorflow as tf\n",
    "import pandas as pd\n",
    "import matplotlib.pyplot as plt\n",
    "import seaborn as sns\n",
    "import numpy as np"
   ]
  },
  {
   "cell_type": "code",
   "execution_count": 45,
   "id": "620f7843",
   "metadata": {},
   "outputs": [
    {
     "data": {
      "text/html": [
       "<div>\n",
       "<style scoped>\n",
       "    .dataframe tbody tr th:only-of-type {\n",
       "        vertical-align: middle;\n",
       "    }\n",
       "\n",
       "    .dataframe tbody tr th {\n",
       "        vertical-align: top;\n",
       "    }\n",
       "\n",
       "    .dataframe thead th {\n",
       "        text-align: right;\n",
       "    }\n",
       "</style>\n",
       "<table border=\"1\" class=\"dataframe\">\n",
       "  <thead>\n",
       "    <tr style=\"text-align: right;\">\n",
       "      <th></th>\n",
       "      <th>customerID</th>\n",
       "      <th>gender</th>\n",
       "      <th>SeniorCitizen</th>\n",
       "      <th>Partner</th>\n",
       "      <th>Dependents</th>\n",
       "      <th>tenure</th>\n",
       "      <th>PhoneService</th>\n",
       "      <th>MultipleLines</th>\n",
       "      <th>InternetService</th>\n",
       "      <th>OnlineSecurity</th>\n",
       "      <th>...</th>\n",
       "      <th>DeviceProtection</th>\n",
       "      <th>TechSupport</th>\n",
       "      <th>StreamingTV</th>\n",
       "      <th>StreamingMovies</th>\n",
       "      <th>Contract</th>\n",
       "      <th>PaperlessBilling</th>\n",
       "      <th>PaymentMethod</th>\n",
       "      <th>MonthlyCharges</th>\n",
       "      <th>TotalCharges</th>\n",
       "      <th>Churn</th>\n",
       "    </tr>\n",
       "  </thead>\n",
       "  <tbody>\n",
       "    <tr>\n",
       "      <th>0</th>\n",
       "      <td>7590-VHVEG</td>\n",
       "      <td>Female</td>\n",
       "      <td>0</td>\n",
       "      <td>Yes</td>\n",
       "      <td>No</td>\n",
       "      <td>1</td>\n",
       "      <td>No</td>\n",
       "      <td>No phone service</td>\n",
       "      <td>DSL</td>\n",
       "      <td>No</td>\n",
       "      <td>...</td>\n",
       "      <td>No</td>\n",
       "      <td>No</td>\n",
       "      <td>No</td>\n",
       "      <td>No</td>\n",
       "      <td>Month-to-month</td>\n",
       "      <td>Yes</td>\n",
       "      <td>Electronic check</td>\n",
       "      <td>29.85</td>\n",
       "      <td>29.85</td>\n",
       "      <td>No</td>\n",
       "    </tr>\n",
       "    <tr>\n",
       "      <th>1</th>\n",
       "      <td>5575-GNVDE</td>\n",
       "      <td>Male</td>\n",
       "      <td>0</td>\n",
       "      <td>No</td>\n",
       "      <td>No</td>\n",
       "      <td>34</td>\n",
       "      <td>Yes</td>\n",
       "      <td>No</td>\n",
       "      <td>DSL</td>\n",
       "      <td>Yes</td>\n",
       "      <td>...</td>\n",
       "      <td>Yes</td>\n",
       "      <td>No</td>\n",
       "      <td>No</td>\n",
       "      <td>No</td>\n",
       "      <td>One year</td>\n",
       "      <td>No</td>\n",
       "      <td>Mailed check</td>\n",
       "      <td>56.95</td>\n",
       "      <td>1889.5</td>\n",
       "      <td>No</td>\n",
       "    </tr>\n",
       "    <tr>\n",
       "      <th>2</th>\n",
       "      <td>3668-QPYBK</td>\n",
       "      <td>Male</td>\n",
       "      <td>0</td>\n",
       "      <td>No</td>\n",
       "      <td>No</td>\n",
       "      <td>2</td>\n",
       "      <td>Yes</td>\n",
       "      <td>No</td>\n",
       "      <td>DSL</td>\n",
       "      <td>Yes</td>\n",
       "      <td>...</td>\n",
       "      <td>No</td>\n",
       "      <td>No</td>\n",
       "      <td>No</td>\n",
       "      <td>No</td>\n",
       "      <td>Month-to-month</td>\n",
       "      <td>Yes</td>\n",
       "      <td>Mailed check</td>\n",
       "      <td>53.85</td>\n",
       "      <td>108.15</td>\n",
       "      <td>Yes</td>\n",
       "    </tr>\n",
       "    <tr>\n",
       "      <th>3</th>\n",
       "      <td>7795-CFOCW</td>\n",
       "      <td>Male</td>\n",
       "      <td>0</td>\n",
       "      <td>No</td>\n",
       "      <td>No</td>\n",
       "      <td>45</td>\n",
       "      <td>No</td>\n",
       "      <td>No phone service</td>\n",
       "      <td>DSL</td>\n",
       "      <td>Yes</td>\n",
       "      <td>...</td>\n",
       "      <td>Yes</td>\n",
       "      <td>Yes</td>\n",
       "      <td>No</td>\n",
       "      <td>No</td>\n",
       "      <td>One year</td>\n",
       "      <td>No</td>\n",
       "      <td>Bank transfer (automatic)</td>\n",
       "      <td>42.30</td>\n",
       "      <td>1840.75</td>\n",
       "      <td>No</td>\n",
       "    </tr>\n",
       "    <tr>\n",
       "      <th>4</th>\n",
       "      <td>9237-HQITU</td>\n",
       "      <td>Female</td>\n",
       "      <td>0</td>\n",
       "      <td>No</td>\n",
       "      <td>No</td>\n",
       "      <td>2</td>\n",
       "      <td>Yes</td>\n",
       "      <td>No</td>\n",
       "      <td>Fiber optic</td>\n",
       "      <td>No</td>\n",
       "      <td>...</td>\n",
       "      <td>No</td>\n",
       "      <td>No</td>\n",
       "      <td>No</td>\n",
       "      <td>No</td>\n",
       "      <td>Month-to-month</td>\n",
       "      <td>Yes</td>\n",
       "      <td>Electronic check</td>\n",
       "      <td>70.70</td>\n",
       "      <td>151.65</td>\n",
       "      <td>Yes</td>\n",
       "    </tr>\n",
       "  </tbody>\n",
       "</table>\n",
       "<p>5 rows × 21 columns</p>\n",
       "</div>"
      ],
      "text/plain": [
       "   customerID  gender  SeniorCitizen Partner Dependents  tenure PhoneService  \\\n",
       "0  7590-VHVEG  Female              0     Yes         No       1           No   \n",
       "1  5575-GNVDE    Male              0      No         No      34          Yes   \n",
       "2  3668-QPYBK    Male              0      No         No       2          Yes   \n",
       "3  7795-CFOCW    Male              0      No         No      45           No   \n",
       "4  9237-HQITU  Female              0      No         No       2          Yes   \n",
       "\n",
       "      MultipleLines InternetService OnlineSecurity  ... DeviceProtection  \\\n",
       "0  No phone service             DSL             No  ...               No   \n",
       "1                No             DSL            Yes  ...              Yes   \n",
       "2                No             DSL            Yes  ...               No   \n",
       "3  No phone service             DSL            Yes  ...              Yes   \n",
       "4                No     Fiber optic             No  ...               No   \n",
       "\n",
       "  TechSupport StreamingTV StreamingMovies        Contract PaperlessBilling  \\\n",
       "0          No          No              No  Month-to-month              Yes   \n",
       "1          No          No              No        One year               No   \n",
       "2          No          No              No  Month-to-month              Yes   \n",
       "3         Yes          No              No        One year               No   \n",
       "4          No          No              No  Month-to-month              Yes   \n",
       "\n",
       "               PaymentMethod MonthlyCharges  TotalCharges Churn  \n",
       "0           Electronic check          29.85         29.85    No  \n",
       "1               Mailed check          56.95        1889.5    No  \n",
       "2               Mailed check          53.85        108.15   Yes  \n",
       "3  Bank transfer (automatic)          42.30       1840.75    No  \n",
       "4           Electronic check          70.70        151.65   Yes  \n",
       "\n",
       "[5 rows x 21 columns]"
      ]
     },
     "execution_count": 45,
     "metadata": {},
     "output_type": "execute_result"
    }
   ],
   "source": [
    "df = pd.read_csv('WA_Fn-UseC_-Telco-Customer-Churn.csv')\n",
    "df.head()"
   ]
  },
  {
   "cell_type": "markdown",
   "id": "3f87bc56",
   "metadata": {},
   "source": [
    "#### Analysis Type"
   ]
  },
  {
   "cell_type": "markdown",
   "id": "a9fcb501",
   "metadata": {},
   "source": [
    "This Project will be concentrating on Deep Learning models like Aritficial Neural Network and Convulutional Neural Network\n",
    "We will be creating a model to classify the churn type with provided information."
   ]
  },
  {
   "cell_type": "code",
   "execution_count": 46,
   "id": "584b5fe0",
   "metadata": {},
   "outputs": [],
   "source": [
    "import tensorflow as tf\n",
    "import pandas as pd\n",
    "import matplotlib.pyplot as plt\n",
    "import seaborn as sns"
   ]
  },
  {
   "cell_type": "code",
   "execution_count": 47,
   "id": "f930ffcb",
   "metadata": {},
   "outputs": [],
   "source": [
    "df.drop(columns = 'customerID', inplace = True)"
   ]
  },
  {
   "cell_type": "code",
   "execution_count": 48,
   "id": "bd985808",
   "metadata": {},
   "outputs": [
    {
     "data": {
      "text/html": [
       "<div>\n",
       "<style scoped>\n",
       "    .dataframe tbody tr th:only-of-type {\n",
       "        vertical-align: middle;\n",
       "    }\n",
       "\n",
       "    .dataframe tbody tr th {\n",
       "        vertical-align: top;\n",
       "    }\n",
       "\n",
       "    .dataframe thead th {\n",
       "        text-align: right;\n",
       "    }\n",
       "</style>\n",
       "<table border=\"1\" class=\"dataframe\">\n",
       "  <thead>\n",
       "    <tr style=\"text-align: right;\">\n",
       "      <th></th>\n",
       "      <th>gender</th>\n",
       "      <th>SeniorCitizen</th>\n",
       "      <th>Partner</th>\n",
       "      <th>Dependents</th>\n",
       "      <th>tenure</th>\n",
       "      <th>PhoneService</th>\n",
       "      <th>MultipleLines</th>\n",
       "      <th>InternetService</th>\n",
       "      <th>OnlineSecurity</th>\n",
       "      <th>OnlineBackup</th>\n",
       "      <th>DeviceProtection</th>\n",
       "      <th>TechSupport</th>\n",
       "      <th>StreamingTV</th>\n",
       "      <th>StreamingMovies</th>\n",
       "      <th>Contract</th>\n",
       "      <th>PaperlessBilling</th>\n",
       "      <th>PaymentMethod</th>\n",
       "      <th>MonthlyCharges</th>\n",
       "      <th>TotalCharges</th>\n",
       "      <th>Churn</th>\n",
       "    </tr>\n",
       "  </thead>\n",
       "  <tbody>\n",
       "    <tr>\n",
       "      <th>0</th>\n",
       "      <td>Female</td>\n",
       "      <td>0</td>\n",
       "      <td>Yes</td>\n",
       "      <td>No</td>\n",
       "      <td>1</td>\n",
       "      <td>No</td>\n",
       "      <td>No phone service</td>\n",
       "      <td>DSL</td>\n",
       "      <td>No</td>\n",
       "      <td>Yes</td>\n",
       "      <td>No</td>\n",
       "      <td>No</td>\n",
       "      <td>No</td>\n",
       "      <td>No</td>\n",
       "      <td>Month-to-month</td>\n",
       "      <td>Yes</td>\n",
       "      <td>Electronic check</td>\n",
       "      <td>29.85</td>\n",
       "      <td>29.85</td>\n",
       "      <td>No</td>\n",
       "    </tr>\n",
       "    <tr>\n",
       "      <th>1</th>\n",
       "      <td>Male</td>\n",
       "      <td>0</td>\n",
       "      <td>No</td>\n",
       "      <td>No</td>\n",
       "      <td>34</td>\n",
       "      <td>Yes</td>\n",
       "      <td>No</td>\n",
       "      <td>DSL</td>\n",
       "      <td>Yes</td>\n",
       "      <td>No</td>\n",
       "      <td>Yes</td>\n",
       "      <td>No</td>\n",
       "      <td>No</td>\n",
       "      <td>No</td>\n",
       "      <td>One year</td>\n",
       "      <td>No</td>\n",
       "      <td>Mailed check</td>\n",
       "      <td>56.95</td>\n",
       "      <td>1889.5</td>\n",
       "      <td>No</td>\n",
       "    </tr>\n",
       "    <tr>\n",
       "      <th>2</th>\n",
       "      <td>Male</td>\n",
       "      <td>0</td>\n",
       "      <td>No</td>\n",
       "      <td>No</td>\n",
       "      <td>2</td>\n",
       "      <td>Yes</td>\n",
       "      <td>No</td>\n",
       "      <td>DSL</td>\n",
       "      <td>Yes</td>\n",
       "      <td>Yes</td>\n",
       "      <td>No</td>\n",
       "      <td>No</td>\n",
       "      <td>No</td>\n",
       "      <td>No</td>\n",
       "      <td>Month-to-month</td>\n",
       "      <td>Yes</td>\n",
       "      <td>Mailed check</td>\n",
       "      <td>53.85</td>\n",
       "      <td>108.15</td>\n",
       "      <td>Yes</td>\n",
       "    </tr>\n",
       "    <tr>\n",
       "      <th>3</th>\n",
       "      <td>Male</td>\n",
       "      <td>0</td>\n",
       "      <td>No</td>\n",
       "      <td>No</td>\n",
       "      <td>45</td>\n",
       "      <td>No</td>\n",
       "      <td>No phone service</td>\n",
       "      <td>DSL</td>\n",
       "      <td>Yes</td>\n",
       "      <td>No</td>\n",
       "      <td>Yes</td>\n",
       "      <td>Yes</td>\n",
       "      <td>No</td>\n",
       "      <td>No</td>\n",
       "      <td>One year</td>\n",
       "      <td>No</td>\n",
       "      <td>Bank transfer (automatic)</td>\n",
       "      <td>42.30</td>\n",
       "      <td>1840.75</td>\n",
       "      <td>No</td>\n",
       "    </tr>\n",
       "    <tr>\n",
       "      <th>4</th>\n",
       "      <td>Female</td>\n",
       "      <td>0</td>\n",
       "      <td>No</td>\n",
       "      <td>No</td>\n",
       "      <td>2</td>\n",
       "      <td>Yes</td>\n",
       "      <td>No</td>\n",
       "      <td>Fiber optic</td>\n",
       "      <td>No</td>\n",
       "      <td>No</td>\n",
       "      <td>No</td>\n",
       "      <td>No</td>\n",
       "      <td>No</td>\n",
       "      <td>No</td>\n",
       "      <td>Month-to-month</td>\n",
       "      <td>Yes</td>\n",
       "      <td>Electronic check</td>\n",
       "      <td>70.70</td>\n",
       "      <td>151.65</td>\n",
       "      <td>Yes</td>\n",
       "    </tr>\n",
       "  </tbody>\n",
       "</table>\n",
       "</div>"
      ],
      "text/plain": [
       "   gender  SeniorCitizen Partner Dependents  tenure PhoneService  \\\n",
       "0  Female              0     Yes         No       1           No   \n",
       "1    Male              0      No         No      34          Yes   \n",
       "2    Male              0      No         No       2          Yes   \n",
       "3    Male              0      No         No      45           No   \n",
       "4  Female              0      No         No       2          Yes   \n",
       "\n",
       "      MultipleLines InternetService OnlineSecurity OnlineBackup  \\\n",
       "0  No phone service             DSL             No          Yes   \n",
       "1                No             DSL            Yes           No   \n",
       "2                No             DSL            Yes          Yes   \n",
       "3  No phone service             DSL            Yes           No   \n",
       "4                No     Fiber optic             No           No   \n",
       "\n",
       "  DeviceProtection TechSupport StreamingTV StreamingMovies        Contract  \\\n",
       "0               No          No          No              No  Month-to-month   \n",
       "1              Yes          No          No              No        One year   \n",
       "2               No          No          No              No  Month-to-month   \n",
       "3              Yes         Yes          No              No        One year   \n",
       "4               No          No          No              No  Month-to-month   \n",
       "\n",
       "  PaperlessBilling              PaymentMethod  MonthlyCharges TotalCharges  \\\n",
       "0              Yes           Electronic check           29.85        29.85   \n",
       "1               No               Mailed check           56.95       1889.5   \n",
       "2              Yes               Mailed check           53.85       108.15   \n",
       "3               No  Bank transfer (automatic)           42.30      1840.75   \n",
       "4              Yes           Electronic check           70.70       151.65   \n",
       "\n",
       "  Churn  \n",
       "0    No  \n",
       "1    No  \n",
       "2   Yes  \n",
       "3    No  \n",
       "4   Yes  "
      ]
     },
     "execution_count": 48,
     "metadata": {},
     "output_type": "execute_result"
    }
   ],
   "source": [
    "df.head()"
   ]
  },
  {
   "cell_type": "markdown",
   "id": "4f2640d9",
   "metadata": {},
   "source": [
    "#### Dataset Description"
   ]
  },
  {
   "cell_type": "markdown",
   "id": "48a12388",
   "metadata": {},
   "source": [
    "- Dataset has 12 features relating to chemical composition of wine like\n",
    "\n",
    "  - Gender\n",
    "  - SeniorCitizen\n",
    "  - Partner\n",
    "  - Dependents\n",
    "  - Tenure\n",
    "  - PhoneService\n",
    "  - MultipleLines\n",
    "  - InternetService\n",
    "  - OnlineSecurity\n",
    "  - OnlineBackup\n",
    "  - DeviceProtection\n",
    "  - TechSupport\n",
    "  - StreamingTV\n",
    "  - StreamingMovies\n",
    "  - Contract\n",
    "  - PaperlessBilling\n",
    "  - PaymentMethod\n",
    "  - MonthlyCharges\n",
    "  - TotalCharges\n",
    "  - Churn\n",
    "\n",
    "\n",
    "  \n",
    "Based on the above features we will predict whether customer is gonna churn or not"
   ]
  },
  {
   "cell_type": "code",
   "execution_count": 49,
   "id": "34199fdd",
   "metadata": {},
   "outputs": [
    {
     "name": "stdout",
     "output_type": "stream",
     "text": [
      "<class 'pandas.core.frame.DataFrame'>\n",
      "RangeIndex: 7043 entries, 0 to 7042\n",
      "Data columns (total 20 columns):\n",
      " #   Column            Non-Null Count  Dtype  \n",
      "---  ------            --------------  -----  \n",
      " 0   gender            7043 non-null   object \n",
      " 1   SeniorCitizen     7043 non-null   int64  \n",
      " 2   Partner           7043 non-null   object \n",
      " 3   Dependents        7043 non-null   object \n",
      " 4   tenure            7043 non-null   int64  \n",
      " 5   PhoneService      7043 non-null   object \n",
      " 6   MultipleLines     7043 non-null   object \n",
      " 7   InternetService   7043 non-null   object \n",
      " 8   OnlineSecurity    7043 non-null   object \n",
      " 9   OnlineBackup      7043 non-null   object \n",
      " 10  DeviceProtection  7043 non-null   object \n",
      " 11  TechSupport       7043 non-null   object \n",
      " 12  StreamingTV       7043 non-null   object \n",
      " 13  StreamingMovies   7043 non-null   object \n",
      " 14  Contract          7043 non-null   object \n",
      " 15  PaperlessBilling  7043 non-null   object \n",
      " 16  PaymentMethod     7043 non-null   object \n",
      " 17  MonthlyCharges    7043 non-null   float64\n",
      " 18  TotalCharges      7043 non-null   object \n",
      " 19  Churn             7043 non-null   object \n",
      "dtypes: float64(1), int64(2), object(17)\n",
      "memory usage: 1.1+ MB\n"
     ]
    }
   ],
   "source": [
    "df.info()"
   ]
  },
  {
   "cell_type": "markdown",
   "id": "a3d2df15",
   "metadata": {},
   "source": [
    "#### Data Cleaning"
   ]
  },
  {
   "cell_type": "code",
   "execution_count": 50,
   "id": "6c7cbb98",
   "metadata": {},
   "outputs": [
    {
     "data": {
      "text/plain": [
       "11"
      ]
     },
     "execution_count": 50,
     "metadata": {},
     "output_type": "execute_result"
    }
   ],
   "source": [
    "df.TotalCharges = pd.to_numeric(df.TotalCharges, errors = 'coerce')\n",
    "df.TotalCharges.isnull().sum()"
   ]
  },
  {
   "cell_type": "code",
   "execution_count": 51,
   "id": "9b1cae8e",
   "metadata": {},
   "outputs": [],
   "source": [
    "df.dropna(inplace = True)"
   ]
  },
  {
   "cell_type": "code",
   "execution_count": 52,
   "id": "554267e5",
   "metadata": {},
   "outputs": [
    {
     "data": {
      "text/plain": [
       "0"
      ]
     },
     "execution_count": 52,
     "metadata": {},
     "output_type": "execute_result"
    }
   ],
   "source": [
    "df.TotalCharges.isnull().sum()"
   ]
  },
  {
   "cell_type": "code",
   "execution_count": 53,
   "id": "558c3eb5",
   "metadata": {},
   "outputs": [
    {
     "data": {
      "text/plain": [
       "(7032, 20)"
      ]
     },
     "execution_count": 53,
     "metadata": {},
     "output_type": "execute_result"
    }
   ],
   "source": [
    "df.shape"
   ]
  },
  {
   "cell_type": "code",
   "execution_count": 54,
   "id": "90627327",
   "metadata": {},
   "outputs": [
    {
     "name": "stdout",
     "output_type": "stream",
     "text": [
      "<class 'pandas.core.frame.DataFrame'>\n",
      "Int64Index: 7032 entries, 0 to 7042\n",
      "Data columns (total 20 columns):\n",
      " #   Column            Non-Null Count  Dtype  \n",
      "---  ------            --------------  -----  \n",
      " 0   gender            7032 non-null   object \n",
      " 1   SeniorCitizen     7032 non-null   int64  \n",
      " 2   Partner           7032 non-null   object \n",
      " 3   Dependents        7032 non-null   object \n",
      " 4   tenure            7032 non-null   int64  \n",
      " 5   PhoneService      7032 non-null   object \n",
      " 6   MultipleLines     7032 non-null   object \n",
      " 7   InternetService   7032 non-null   object \n",
      " 8   OnlineSecurity    7032 non-null   object \n",
      " 9   OnlineBackup      7032 non-null   object \n",
      " 10  DeviceProtection  7032 non-null   object \n",
      " 11  TechSupport       7032 non-null   object \n",
      " 12  StreamingTV       7032 non-null   object \n",
      " 13  StreamingMovies   7032 non-null   object \n",
      " 14  Contract          7032 non-null   object \n",
      " 15  PaperlessBilling  7032 non-null   object \n",
      " 16  PaymentMethod     7032 non-null   object \n",
      " 17  MonthlyCharges    7032 non-null   float64\n",
      " 18  TotalCharges      7032 non-null   float64\n",
      " 19  Churn             7032 non-null   object \n",
      "dtypes: float64(2), int64(2), object(16)\n",
      "memory usage: 1.1+ MB\n"
     ]
    }
   ],
   "source": [
    "df.info()"
   ]
  },
  {
   "cell_type": "markdown",
   "id": "28c292c9",
   "metadata": {},
   "source": [
    "#### Data Exploration and Feature Engineering"
   ]
  },
  {
   "cell_type": "code",
   "execution_count": 55,
   "id": "e38e8f1d",
   "metadata": {},
   "outputs": [
    {
     "data": {
      "text/plain": [
       "array([34, 45, 22, 28, 62, 13, 16, 58, 49, 25, 69, 52, 71, 21, 12, 30, 47,\n",
       "       72, 17, 27, 46, 11, 70, 63, 43, 15, 60, 18, 66, 31, 50, 64, 56, 42,\n",
       "       35, 48, 29, 65, 38, 68, 32, 55, 37, 36, 41, 33, 67, 23, 57, 61, 14,\n",
       "       20, 53, 40, 59, 24, 44, 19, 54, 51, 26, 39], dtype=int64)"
      ]
     },
     "execution_count": 55,
     "metadata": {},
     "output_type": "execute_result"
    }
   ],
   "source": [
    "df.tenure.unique()[df.tenure.unique() > 10]"
   ]
  },
  {
   "cell_type": "code",
   "execution_count": 56,
   "id": "0dd5edd8",
   "metadata": {},
   "outputs": [
    {
     "data": {
      "text/html": [
       "<div>\n",
       "<style scoped>\n",
       "    .dataframe tbody tr th:only-of-type {\n",
       "        vertical-align: middle;\n",
       "    }\n",
       "\n",
       "    .dataframe tbody tr th {\n",
       "        vertical-align: top;\n",
       "    }\n",
       "\n",
       "    .dataframe thead th {\n",
       "        text-align: right;\n",
       "    }\n",
       "</style>\n",
       "<table border=\"1\" class=\"dataframe\">\n",
       "  <thead>\n",
       "    <tr style=\"text-align: right;\">\n",
       "      <th></th>\n",
       "      <th>gender</th>\n",
       "      <th>SeniorCitizen</th>\n",
       "      <th>Partner</th>\n",
       "      <th>Dependents</th>\n",
       "      <th>tenure</th>\n",
       "      <th>PhoneService</th>\n",
       "      <th>MultipleLines</th>\n",
       "      <th>InternetService</th>\n",
       "      <th>OnlineSecurity</th>\n",
       "      <th>OnlineBackup</th>\n",
       "      <th>DeviceProtection</th>\n",
       "      <th>TechSupport</th>\n",
       "      <th>StreamingTV</th>\n",
       "      <th>StreamingMovies</th>\n",
       "      <th>Contract</th>\n",
       "      <th>PaperlessBilling</th>\n",
       "      <th>PaymentMethod</th>\n",
       "      <th>MonthlyCharges</th>\n",
       "      <th>TotalCharges</th>\n",
       "      <th>Churn</th>\n",
       "    </tr>\n",
       "  </thead>\n",
       "  <tbody>\n",
       "    <tr>\n",
       "      <th>1</th>\n",
       "      <td>Male</td>\n",
       "      <td>0</td>\n",
       "      <td>No</td>\n",
       "      <td>No</td>\n",
       "      <td>34</td>\n",
       "      <td>Yes</td>\n",
       "      <td>No</td>\n",
       "      <td>DSL</td>\n",
       "      <td>Yes</td>\n",
       "      <td>No</td>\n",
       "      <td>Yes</td>\n",
       "      <td>No</td>\n",
       "      <td>No</td>\n",
       "      <td>No</td>\n",
       "      <td>One year</td>\n",
       "      <td>No</td>\n",
       "      <td>Mailed check</td>\n",
       "      <td>56.95</td>\n",
       "      <td>1889.50</td>\n",
       "      <td>No</td>\n",
       "    </tr>\n",
       "    <tr>\n",
       "      <th>3</th>\n",
       "      <td>Male</td>\n",
       "      <td>0</td>\n",
       "      <td>No</td>\n",
       "      <td>No</td>\n",
       "      <td>45</td>\n",
       "      <td>No</td>\n",
       "      <td>No phone service</td>\n",
       "      <td>DSL</td>\n",
       "      <td>Yes</td>\n",
       "      <td>No</td>\n",
       "      <td>Yes</td>\n",
       "      <td>Yes</td>\n",
       "      <td>No</td>\n",
       "      <td>No</td>\n",
       "      <td>One year</td>\n",
       "      <td>No</td>\n",
       "      <td>Bank transfer (automatic)</td>\n",
       "      <td>42.30</td>\n",
       "      <td>1840.75</td>\n",
       "      <td>No</td>\n",
       "    </tr>\n",
       "    <tr>\n",
       "      <th>6</th>\n",
       "      <td>Male</td>\n",
       "      <td>0</td>\n",
       "      <td>No</td>\n",
       "      <td>Yes</td>\n",
       "      <td>22</td>\n",
       "      <td>Yes</td>\n",
       "      <td>Yes</td>\n",
       "      <td>Fiber optic</td>\n",
       "      <td>No</td>\n",
       "      <td>Yes</td>\n",
       "      <td>No</td>\n",
       "      <td>No</td>\n",
       "      <td>Yes</td>\n",
       "      <td>No</td>\n",
       "      <td>Month-to-month</td>\n",
       "      <td>Yes</td>\n",
       "      <td>Credit card (automatic)</td>\n",
       "      <td>89.10</td>\n",
       "      <td>1949.40</td>\n",
       "      <td>No</td>\n",
       "    </tr>\n",
       "    <tr>\n",
       "      <th>8</th>\n",
       "      <td>Female</td>\n",
       "      <td>0</td>\n",
       "      <td>Yes</td>\n",
       "      <td>No</td>\n",
       "      <td>28</td>\n",
       "      <td>Yes</td>\n",
       "      <td>Yes</td>\n",
       "      <td>Fiber optic</td>\n",
       "      <td>No</td>\n",
       "      <td>No</td>\n",
       "      <td>Yes</td>\n",
       "      <td>Yes</td>\n",
       "      <td>Yes</td>\n",
       "      <td>Yes</td>\n",
       "      <td>Month-to-month</td>\n",
       "      <td>Yes</td>\n",
       "      <td>Electronic check</td>\n",
       "      <td>104.80</td>\n",
       "      <td>3046.05</td>\n",
       "      <td>Yes</td>\n",
       "    </tr>\n",
       "    <tr>\n",
       "      <th>9</th>\n",
       "      <td>Male</td>\n",
       "      <td>0</td>\n",
       "      <td>No</td>\n",
       "      <td>Yes</td>\n",
       "      <td>62</td>\n",
       "      <td>Yes</td>\n",
       "      <td>No</td>\n",
       "      <td>DSL</td>\n",
       "      <td>Yes</td>\n",
       "      <td>Yes</td>\n",
       "      <td>No</td>\n",
       "      <td>No</td>\n",
       "      <td>No</td>\n",
       "      <td>No</td>\n",
       "      <td>One year</td>\n",
       "      <td>No</td>\n",
       "      <td>Bank transfer (automatic)</td>\n",
       "      <td>56.15</td>\n",
       "      <td>3487.95</td>\n",
       "      <td>No</td>\n",
       "    </tr>\n",
       "    <tr>\n",
       "      <th>...</th>\n",
       "      <td>...</td>\n",
       "      <td>...</td>\n",
       "      <td>...</td>\n",
       "      <td>...</td>\n",
       "      <td>...</td>\n",
       "      <td>...</td>\n",
       "      <td>...</td>\n",
       "      <td>...</td>\n",
       "      <td>...</td>\n",
       "      <td>...</td>\n",
       "      <td>...</td>\n",
       "      <td>...</td>\n",
       "      <td>...</td>\n",
       "      <td>...</td>\n",
       "      <td>...</td>\n",
       "      <td>...</td>\n",
       "      <td>...</td>\n",
       "      <td>...</td>\n",
       "      <td>...</td>\n",
       "      <td>...</td>\n",
       "    </tr>\n",
       "    <tr>\n",
       "      <th>7037</th>\n",
       "      <td>Female</td>\n",
       "      <td>0</td>\n",
       "      <td>No</td>\n",
       "      <td>No</td>\n",
       "      <td>72</td>\n",
       "      <td>Yes</td>\n",
       "      <td>No</td>\n",
       "      <td>No</td>\n",
       "      <td>No internet service</td>\n",
       "      <td>No internet service</td>\n",
       "      <td>No internet service</td>\n",
       "      <td>No internet service</td>\n",
       "      <td>No internet service</td>\n",
       "      <td>No internet service</td>\n",
       "      <td>Two year</td>\n",
       "      <td>Yes</td>\n",
       "      <td>Bank transfer (automatic)</td>\n",
       "      <td>21.15</td>\n",
       "      <td>1419.40</td>\n",
       "      <td>No</td>\n",
       "    </tr>\n",
       "    <tr>\n",
       "      <th>7038</th>\n",
       "      <td>Male</td>\n",
       "      <td>0</td>\n",
       "      <td>Yes</td>\n",
       "      <td>Yes</td>\n",
       "      <td>24</td>\n",
       "      <td>Yes</td>\n",
       "      <td>Yes</td>\n",
       "      <td>DSL</td>\n",
       "      <td>Yes</td>\n",
       "      <td>No</td>\n",
       "      <td>Yes</td>\n",
       "      <td>Yes</td>\n",
       "      <td>Yes</td>\n",
       "      <td>Yes</td>\n",
       "      <td>One year</td>\n",
       "      <td>Yes</td>\n",
       "      <td>Mailed check</td>\n",
       "      <td>84.80</td>\n",
       "      <td>1990.50</td>\n",
       "      <td>No</td>\n",
       "    </tr>\n",
       "    <tr>\n",
       "      <th>7039</th>\n",
       "      <td>Female</td>\n",
       "      <td>0</td>\n",
       "      <td>Yes</td>\n",
       "      <td>Yes</td>\n",
       "      <td>72</td>\n",
       "      <td>Yes</td>\n",
       "      <td>Yes</td>\n",
       "      <td>Fiber optic</td>\n",
       "      <td>No</td>\n",
       "      <td>Yes</td>\n",
       "      <td>Yes</td>\n",
       "      <td>No</td>\n",
       "      <td>Yes</td>\n",
       "      <td>Yes</td>\n",
       "      <td>One year</td>\n",
       "      <td>Yes</td>\n",
       "      <td>Credit card (automatic)</td>\n",
       "      <td>103.20</td>\n",
       "      <td>7362.90</td>\n",
       "      <td>No</td>\n",
       "    </tr>\n",
       "    <tr>\n",
       "      <th>7040</th>\n",
       "      <td>Female</td>\n",
       "      <td>0</td>\n",
       "      <td>Yes</td>\n",
       "      <td>Yes</td>\n",
       "      <td>11</td>\n",
       "      <td>No</td>\n",
       "      <td>No phone service</td>\n",
       "      <td>DSL</td>\n",
       "      <td>Yes</td>\n",
       "      <td>No</td>\n",
       "      <td>No</td>\n",
       "      <td>No</td>\n",
       "      <td>No</td>\n",
       "      <td>No</td>\n",
       "      <td>Month-to-month</td>\n",
       "      <td>Yes</td>\n",
       "      <td>Electronic check</td>\n",
       "      <td>29.60</td>\n",
       "      <td>346.45</td>\n",
       "      <td>No</td>\n",
       "    </tr>\n",
       "    <tr>\n",
       "      <th>7042</th>\n",
       "      <td>Male</td>\n",
       "      <td>0</td>\n",
       "      <td>No</td>\n",
       "      <td>No</td>\n",
       "      <td>66</td>\n",
       "      <td>Yes</td>\n",
       "      <td>No</td>\n",
       "      <td>Fiber optic</td>\n",
       "      <td>Yes</td>\n",
       "      <td>No</td>\n",
       "      <td>Yes</td>\n",
       "      <td>Yes</td>\n",
       "      <td>Yes</td>\n",
       "      <td>Yes</td>\n",
       "      <td>Two year</td>\n",
       "      <td>Yes</td>\n",
       "      <td>Bank transfer (automatic)</td>\n",
       "      <td>105.65</td>\n",
       "      <td>6844.50</td>\n",
       "      <td>No</td>\n",
       "    </tr>\n",
       "  </tbody>\n",
       "</table>\n",
       "<p>5073 rows × 20 columns</p>\n",
       "</div>"
      ],
      "text/plain": [
       "      gender  SeniorCitizen Partner Dependents  tenure PhoneService  \\\n",
       "1       Male              0      No         No      34          Yes   \n",
       "3       Male              0      No         No      45           No   \n",
       "6       Male              0      No        Yes      22          Yes   \n",
       "8     Female              0     Yes         No      28          Yes   \n",
       "9       Male              0      No        Yes      62          Yes   \n",
       "...      ...            ...     ...        ...     ...          ...   \n",
       "7037  Female              0      No         No      72          Yes   \n",
       "7038    Male              0     Yes        Yes      24          Yes   \n",
       "7039  Female              0     Yes        Yes      72          Yes   \n",
       "7040  Female              0     Yes        Yes      11           No   \n",
       "7042    Male              0      No         No      66          Yes   \n",
       "\n",
       "         MultipleLines InternetService       OnlineSecurity  \\\n",
       "1                   No             DSL                  Yes   \n",
       "3     No phone service             DSL                  Yes   \n",
       "6                  Yes     Fiber optic                   No   \n",
       "8                  Yes     Fiber optic                   No   \n",
       "9                   No             DSL                  Yes   \n",
       "...                ...             ...                  ...   \n",
       "7037                No              No  No internet service   \n",
       "7038               Yes             DSL                  Yes   \n",
       "7039               Yes     Fiber optic                   No   \n",
       "7040  No phone service             DSL                  Yes   \n",
       "7042                No     Fiber optic                  Yes   \n",
       "\n",
       "             OnlineBackup     DeviceProtection          TechSupport  \\\n",
       "1                      No                  Yes                   No   \n",
       "3                      No                  Yes                  Yes   \n",
       "6                     Yes                   No                   No   \n",
       "8                      No                  Yes                  Yes   \n",
       "9                     Yes                   No                   No   \n",
       "...                   ...                  ...                  ...   \n",
       "7037  No internet service  No internet service  No internet service   \n",
       "7038                   No                  Yes                  Yes   \n",
       "7039                  Yes                  Yes                   No   \n",
       "7040                   No                   No                   No   \n",
       "7042                   No                  Yes                  Yes   \n",
       "\n",
       "              StreamingTV      StreamingMovies        Contract  \\\n",
       "1                      No                   No        One year   \n",
       "3                      No                   No        One year   \n",
       "6                     Yes                   No  Month-to-month   \n",
       "8                     Yes                  Yes  Month-to-month   \n",
       "9                      No                   No        One year   \n",
       "...                   ...                  ...             ...   \n",
       "7037  No internet service  No internet service        Two year   \n",
       "7038                  Yes                  Yes        One year   \n",
       "7039                  Yes                  Yes        One year   \n",
       "7040                   No                   No  Month-to-month   \n",
       "7042                  Yes                  Yes        Two year   \n",
       "\n",
       "     PaperlessBilling              PaymentMethod  MonthlyCharges  \\\n",
       "1                  No               Mailed check           56.95   \n",
       "3                  No  Bank transfer (automatic)           42.30   \n",
       "6                 Yes    Credit card (automatic)           89.10   \n",
       "8                 Yes           Electronic check          104.80   \n",
       "9                  No  Bank transfer (automatic)           56.15   \n",
       "...               ...                        ...             ...   \n",
       "7037              Yes  Bank transfer (automatic)           21.15   \n",
       "7038              Yes               Mailed check           84.80   \n",
       "7039              Yes    Credit card (automatic)          103.20   \n",
       "7040              Yes           Electronic check           29.60   \n",
       "7042              Yes  Bank transfer (automatic)          105.65   \n",
       "\n",
       "      TotalCharges Churn  \n",
       "1          1889.50    No  \n",
       "3          1840.75    No  \n",
       "6          1949.40    No  \n",
       "8          3046.05   Yes  \n",
       "9          3487.95    No  \n",
       "...            ...   ...  \n",
       "7037       1419.40    No  \n",
       "7038       1990.50    No  \n",
       "7039       7362.90    No  \n",
       "7040        346.45    No  \n",
       "7042       6844.50    No  \n",
       "\n",
       "[5073 rows x 20 columns]"
      ]
     },
     "execution_count": 56,
     "metadata": {},
     "output_type": "execute_result"
    }
   ],
   "source": [
    "df[df.tenure > 10]"
   ]
  },
  {
   "cell_type": "code",
   "execution_count": 57,
   "id": "ff12e1df",
   "metadata": {
    "scrolled": true
   },
   "outputs": [
    {
     "data": {
      "text/plain": [
       "<AxesSubplot:xlabel='tenure', ylabel='Count'>"
      ]
     },
     "execution_count": 57,
     "metadata": {},
     "output_type": "execute_result"
    },
    {
     "data": {
      "image/png": "[encoded data removed]",
      "text/plain": [
       "<Figure size 640x480 with 1 Axes>"
      ]
     },
     "metadata": {},
     "output_type": "display_data"
    }
   ],
   "source": [
    "sns.histplot(data = df, x = df.tenure, hue = 'Churn')"
   ]
  },
  {
   "cell_type": "code",
   "execution_count": 58,
   "id": "4f1791f7",
   "metadata": {},
   "outputs": [
    {
     "data": {
      "text/plain": [
       "<AxesSubplot:xlabel='MonthlyCharges', ylabel='Count'>"
      ]
     },
     "execution_count": 58,
     "metadata": {},
     "output_type": "execute_result"
    },
    {
     "data": {
      "image/png": "[encoded data removed]",
      "text/plain": [
       "<Figure size 640x480 with 1 Axes>"
      ]
     },
     "metadata": {},
     "output_type": "display_data"
    }
   ],
   "source": [
    "sns.histplot(data = df, x = df.MonthlyCharges, hue = 'Churn')"
   ]
  },
  {
   "cell_type": "code",
   "execution_count": 91,
   "id": "f0506ae2",
   "metadata": {},
   "outputs": [
    {
     "data": {
      "image/png": "[encoded data removed]",
      "text/plain": [
       "<Figure size 1200x800 with 1 Axes>"
      ]
     },
     "metadata": {},
     "output_type": "display_data"
    }
   ],
   "source": [
    "# Histogram representation of correlation\n",
    "sns.set_context('talk')\n",
    "sns.set_style('white')\n",
    "\n",
    "ax = corr_values.abs_correlation.hist(bins=50, figsize=(12, 8))\n",
    "ax.set(xlabel='Absolute Correlation', ylabel='Frequency');"
   ]
  },
  {
   "cell_type": "code",
   "execution_count": 59,
   "id": "77bf6794",
   "metadata": {},
   "outputs": [],
   "source": [
    "def cols_unique_values(df):\n",
    "    for column in df:\n",
    "        print(f'{column}: {df[column].unique()}')"
   ]
  },
  {
   "cell_type": "code",
   "execution_count": 60,
   "id": "ec9ccfdd",
   "metadata": {},
   "outputs": [
    {
     "name": "stdout",
     "output_type": "stream",
     "text": [
      "gender: ['Female' 'Male']\n",
      "SeniorCitizen: [0 1]\n",
      "Partner: ['Yes' 'No']\n",
      "Dependents: ['No' 'Yes']\n",
      "tenure: [ 1 34  2 45  8 22 10 28 62 13 16 58 49 25 69 52 71 21 12 30 47 72 17 27\n",
      "  5 46 11 70 63 43 15 60 18 66  9  3 31 50 64 56  7 42 35 48 29 65 38 68\n",
      " 32 55 37 36 41  6  4 33 67 23 57 61 14 20 53 40 59 24 44 19 54 51 26 39]\n",
      "PhoneService: ['No' 'Yes']\n",
      "MultipleLines: ['No phone service' 'No' 'Yes']\n",
      "InternetService: ['DSL' 'Fiber optic' 'No']\n",
      "OnlineSecurity: ['No' 'Yes' 'No internet service']\n",
      "OnlineBackup: ['Yes' 'No' 'No internet service']\n",
      "DeviceProtection: ['No' 'Yes' 'No internet service']\n",
      "TechSupport: ['No' 'Yes' 'No internet service']\n",
      "StreamingTV: ['No' 'Yes' 'No internet service']\n",
      "StreamingMovies: ['No' 'Yes' 'No internet service']\n",
      "Contract: ['Month-to-month' 'One year' 'Two year']\n",
      "PaperlessBilling: ['Yes' 'No']\n",
      "PaymentMethod: ['Electronic check' 'Mailed check' 'Bank transfer (automatic)'\n",
      " 'Credit card (automatic)']\n",
      "MonthlyCharges: [29.85 56.95 53.85 ... 63.1  44.2  78.7 ]\n",
      "TotalCharges: [  29.85 1889.5   108.15 ...  346.45  306.6  6844.5 ]\n",
      "Churn: ['No' 'Yes']\n"
     ]
    }
   ],
   "source": [
    "cols_unique_values(df)"
   ]
  },
  {
   "cell_type": "code",
   "execution_count": 61,
   "id": "6142e155",
   "metadata": {},
   "outputs": [],
   "source": [
    "df.replace('No internet service','No', inplace = True)\n",
    "df.replace('No phone service','No', inplace = True)"
   ]
  },
  {
   "cell_type": "code",
   "execution_count": 62,
   "id": "6b3e8723",
   "metadata": {},
   "outputs": [
    {
     "name": "stdout",
     "output_type": "stream",
     "text": [
      "gender: ['Female' 'Male']\n",
      "SeniorCitizen: [0 1]\n",
      "Partner: ['Yes' 'No']\n",
      "Dependents: ['No' 'Yes']\n",
      "tenure: [ 1 34  2 45  8 22 10 28 62 13 16 58 49 25 69 52 71 21 12 30 47 72 17 27\n",
      "  5 46 11 70 63 43 15 60 18 66  9  3 31 50 64 56  7 42 35 48 29 65 38 68\n",
      " 32 55 37 36 41  6  4 33 67 23 57 61 14 20 53 40 59 24 44 19 54 51 26 39]\n",
      "PhoneService: ['No' 'Yes']\n",
      "MultipleLines: ['No' 'Yes']\n",
      "InternetService: ['DSL' 'Fiber optic' 'No']\n",
      "OnlineSecurity: ['No' 'Yes']\n",
      "OnlineBackup: ['Yes' 'No']\n",
      "DeviceProtection: ['No' 'Yes']\n",
      "TechSupport: ['No' 'Yes']\n",
      "StreamingTV: ['No' 'Yes']\n",
      "StreamingMovies: ['No' 'Yes']\n",
      "Contract: ['Month-to-month' 'One year' 'Two year']\n",
      "PaperlessBilling: ['Yes' 'No']\n",
      "PaymentMethod: ['Electronic check' 'Mailed check' 'Bank transfer (automatic)'\n",
      " 'Credit card (automatic)']\n",
      "MonthlyCharges: [29.85 56.95 53.85 ... 63.1  44.2  78.7 ]\n",
      "TotalCharges: [  29.85 1889.5   108.15 ...  346.45  306.6  6844.5 ]\n",
      "Churn: ['No' 'Yes']\n"
     ]
    }
   ],
   "source": [
    "cols_unique_values(df)"
   ]
  },
  {
   "cell_type": "code",
   "execution_count": 63,
   "id": "ed6601f3",
   "metadata": {},
   "outputs": [
    {
     "data": {
      "text/plain": [
       "['Partner',\n",
       " 'Dependents',\n",
       " 'PhoneService',\n",
       " 'MultipleLines',\n",
       " 'OnlineSecurity',\n",
       " 'OnlineBackup',\n",
       " 'DeviceProtection',\n",
       " 'TechSupport',\n",
       " 'StreamingTV',\n",
       " 'StreamingMovies',\n",
       " 'Churn',\n",
       " 'PaperlessBilling']"
      ]
     },
     "execution_count": 63,
     "metadata": {},
     "output_type": "execute_result"
    }
   ],
   "source": [
    "yes_no_columns = ['Partner','Dependents','PhoneService','MultipleLines','OnlineSecurity','OnlineBackup','DeviceProtection','TechSupport','StreamingTV','StreamingMovies','Churn','PaperlessBilling']\n",
    "yes_no_columns"
   ]
  },
  {
   "cell_type": "code",
   "execution_count": 64,
   "id": "91c94700",
   "metadata": {},
   "outputs": [],
   "source": [
    "for cols in yes_no_columns:\n",
    "    df[cols].replace('No',0, inplace = True)\n",
    "    df[cols].replace('Yes',1, inplace = True)\n"
   ]
  },
  {
   "cell_type": "code",
   "execution_count": 65,
   "id": "677bbbe5",
   "metadata": {},
   "outputs": [
    {
     "name": "stdout",
     "output_type": "stream",
     "text": [
      "gender: ['Female' 'Male']\n",
      "SeniorCitizen: [0 1]\n",
      "Partner: [1 0]\n",
      "Dependents: [0 1]\n",
      "tenure: [ 1 34  2 45  8 22 10 28 62 13 16 58 49 25 69 52 71 21 12 30 47 72 17 27\n",
      "  5 46 11 70 63 43 15 60 18 66  9  3 31 50 64 56  7 42 35 48 29 65 38 68\n",
      " 32 55 37 36 41  6  4 33 67 23 57 61 14 20 53 40 59 24 44 19 54 51 26 39]\n",
      "PhoneService: [0 1]\n",
      "MultipleLines: [0 1]\n",
      "InternetService: ['DSL' 'Fiber optic' 'No']\n",
      "OnlineSecurity: [0 1]\n",
      "OnlineBackup: [1 0]\n",
      "DeviceProtection: [0 1]\n",
      "TechSupport: [0 1]\n",
      "StreamingTV: [0 1]\n",
      "StreamingMovies: [0 1]\n",
      "Contract: ['Month-to-month' 'One year' 'Two year']\n",
      "PaperlessBilling: [1 0]\n",
      "PaymentMethod: ['Electronic check' 'Mailed check' 'Bank transfer (automatic)'\n",
      " 'Credit card (automatic)']\n",
      "MonthlyCharges: [29.85 56.95 53.85 ... 63.1  44.2  78.7 ]\n",
      "TotalCharges: [  29.85 1889.5   108.15 ...  346.45  306.6  6844.5 ]\n",
      "Churn: [0 1]\n"
     ]
    }
   ],
   "source": [
    "cols_unique_values(df)"
   ]
  },
  {
   "cell_type": "code",
   "execution_count": 66,
   "id": "7e4db74d",
   "metadata": {},
   "outputs": [],
   "source": [
    "df.gender.replace({'Male':1, 'Female':0}, inplace = True)"
   ]
  },
  {
   "cell_type": "code",
   "execution_count": 67,
   "id": "26468a20",
   "metadata": {},
   "outputs": [
    {
     "name": "stdout",
     "output_type": "stream",
     "text": [
      "gender: [0 1]\n",
      "SeniorCitizen: [0 1]\n",
      "Partner: [1 0]\n",
      "Dependents: [0 1]\n",
      "tenure: [ 1 34  2 45  8 22 10 28 62 13 16 58 49 25 69 52 71 21 12 30 47 72 17 27\n",
      "  5 46 11 70 63 43 15 60 18 66  9  3 31 50 64 56  7 42 35 48 29 65 38 68\n",
      " 32 55 37 36 41  6  4 33 67 23 57 61 14 20 53 40 59 24 44 19 54 51 26 39]\n",
      "PhoneService: [0 1]\n",
      "MultipleLines: [0 1]\n",
      "InternetService: ['DSL' 'Fiber optic' 'No']\n",
      "OnlineSecurity: [0 1]\n",
      "OnlineBackup: [1 0]\n",
      "DeviceProtection: [0 1]\n",
      "TechSupport: [0 1]\n",
      "StreamingTV: [0 1]\n",
      "StreamingMovies: [0 1]\n",
      "Contract: ['Month-to-month' 'One year' 'Two year']\n",
      "PaperlessBilling: [1 0]\n",
      "PaymentMethod: ['Electronic check' 'Mailed check' 'Bank transfer (automatic)'\n",
      " 'Credit card (automatic)']\n",
      "MonthlyCharges: [29.85 56.95 53.85 ... 63.1  44.2  78.7 ]\n",
      "TotalCharges: [  29.85 1889.5   108.15 ...  346.45  306.6  6844.5 ]\n",
      "Churn: [0 1]\n"
     ]
    }
   ],
   "source": [
    "cols_unique_values(df)"
   ]
  },
  {
   "cell_type": "code",
   "execution_count": 68,
   "id": "2fe6c7cf",
   "metadata": {},
   "outputs": [
    {
     "data": {
      "text/html": [
       "<div>\n",
       "<style scoped>\n",
       "    .dataframe tbody tr th:only-of-type {\n",
       "        vertical-align: middle;\n",
       "    }\n",
       "\n",
       "    .dataframe tbody tr th {\n",
       "        vertical-align: top;\n",
       "    }\n",
       "\n",
       "    .dataframe thead th {\n",
       "        text-align: right;\n",
       "    }\n",
       "</style>\n",
       "<table border=\"1\" class=\"dataframe\">\n",
       "  <thead>\n",
       "    <tr style=\"text-align: right;\">\n",
       "      <th></th>\n",
       "      <th>gender</th>\n",
       "      <th>SeniorCitizen</th>\n",
       "      <th>Partner</th>\n",
       "      <th>Dependents</th>\n",
       "      <th>tenure</th>\n",
       "      <th>PhoneService</th>\n",
       "      <th>MultipleLines</th>\n",
       "      <th>OnlineSecurity</th>\n",
       "      <th>OnlineBackup</th>\n",
       "      <th>DeviceProtection</th>\n",
       "      <th>...</th>\n",
       "      <th>InternetService_DSL</th>\n",
       "      <th>InternetService_Fiber optic</th>\n",
       "      <th>InternetService_No</th>\n",
       "      <th>Contract_Month-to-month</th>\n",
       "      <th>Contract_One year</th>\n",
       "      <th>Contract_Two year</th>\n",
       "      <th>PaymentMethod_Bank transfer (automatic)</th>\n",
       "      <th>PaymentMethod_Credit card (automatic)</th>\n",
       "      <th>PaymentMethod_Electronic check</th>\n",
       "      <th>PaymentMethod_Mailed check</th>\n",
       "    </tr>\n",
       "  </thead>\n",
       "  <tbody>\n",
       "    <tr>\n",
       "      <th>0</th>\n",
       "      <td>0</td>\n",
       "      <td>0</td>\n",
       "      <td>1</td>\n",
       "      <td>0</td>\n",
       "      <td>1</td>\n",
       "      <td>0</td>\n",
       "      <td>0</td>\n",
       "      <td>0</td>\n",
       "      <td>1</td>\n",
       "      <td>0</td>\n",
       "      <td>...</td>\n",
       "      <td>1</td>\n",
       "      <td>0</td>\n",
       "      <td>0</td>\n",
       "      <td>1</td>\n",
       "      <td>0</td>\n",
       "      <td>0</td>\n",
       "      <td>0</td>\n",
       "      <td>0</td>\n",
       "      <td>1</td>\n",
       "      <td>0</td>\n",
       "    </tr>\n",
       "    <tr>\n",
       "      <th>1</th>\n",
       "      <td>1</td>\n",
       "      <td>0</td>\n",
       "      <td>0</td>\n",
       "      <td>0</td>\n",
       "      <td>34</td>\n",
       "      <td>1</td>\n",
       "      <td>0</td>\n",
       "      <td>1</td>\n",
       "      <td>0</td>\n",
       "      <td>1</td>\n",
       "      <td>...</td>\n",
       "      <td>1</td>\n",
       "      <td>0</td>\n",
       "      <td>0</td>\n",
       "      <td>0</td>\n",
       "      <td>1</td>\n",
       "      <td>0</td>\n",
       "      <td>0</td>\n",
       "      <td>0</td>\n",
       "      <td>0</td>\n",
       "      <td>1</td>\n",
       "    </tr>\n",
       "    <tr>\n",
       "      <th>2</th>\n",
       "      <td>1</td>\n",
       "      <td>0</td>\n",
       "      <td>0</td>\n",
       "      <td>0</td>\n",
       "      <td>2</td>\n",
       "      <td>1</td>\n",
       "      <td>0</td>\n",
       "      <td>1</td>\n",
       "      <td>1</td>\n",
       "      <td>0</td>\n",
       "      <td>...</td>\n",
       "      <td>1</td>\n",
       "      <td>0</td>\n",
       "      <td>0</td>\n",
       "      <td>1</td>\n",
       "      <td>0</td>\n",
       "      <td>0</td>\n",
       "      <td>0</td>\n",
       "      <td>0</td>\n",
       "      <td>0</td>\n",
       "      <td>1</td>\n",
       "    </tr>\n",
       "    <tr>\n",
       "      <th>3</th>\n",
       "      <td>1</td>\n",
       "      <td>0</td>\n",
       "      <td>0</td>\n",
       "      <td>0</td>\n",
       "      <td>45</td>\n",
       "      <td>0</td>\n",
       "      <td>0</td>\n",
       "      <td>1</td>\n",
       "      <td>0</td>\n",
       "      <td>1</td>\n",
       "      <td>...</td>\n",
       "      <td>1</td>\n",
       "      <td>0</td>\n",
       "      <td>0</td>\n",
       "      <td>0</td>\n",
       "      <td>1</td>\n",
       "      <td>0</td>\n",
       "      <td>1</td>\n",
       "      <td>0</td>\n",
       "      <td>0</td>\n",
       "      <td>0</td>\n",
       "    </tr>\n",
       "    <tr>\n",
       "      <th>4</th>\n",
       "      <td>0</td>\n",
       "      <td>0</td>\n",
       "      <td>0</td>\n",
       "      <td>0</td>\n",
       "      <td>2</td>\n",
       "      <td>1</td>\n",
       "      <td>0</td>\n",
       "      <td>0</td>\n",
       "      <td>0</td>\n",
       "      <td>0</td>\n",
       "      <td>...</td>\n",
       "      <td>0</td>\n",
       "      <td>1</td>\n",
       "      <td>0</td>\n",
       "      <td>1</td>\n",
       "      <td>0</td>\n",
       "      <td>0</td>\n",
       "      <td>0</td>\n",
       "      <td>0</td>\n",
       "      <td>1</td>\n",
       "      <td>0</td>\n",
       "    </tr>\n",
       "  </tbody>\n",
       "</table>\n",
       "<p>5 rows × 27 columns</p>\n",
       "</div>"
      ],
      "text/plain": [
       "   gender  SeniorCitizen  Partner  Dependents  tenure  PhoneService  \\\n",
       "0       0              0        1           0       1             0   \n",
       "1       1              0        0           0      34             1   \n",
       "2       1              0        0           0       2             1   \n",
       "3       1              0        0           0      45             0   \n",
       "4       0              0        0           0       2             1   \n",
       "\n",
       "   MultipleLines  OnlineSecurity  OnlineBackup  DeviceProtection  ...  \\\n",
       "0              0               0             1                 0  ...   \n",
       "1              0               1             0                 1  ...   \n",
       "2              0               1             1                 0  ...   \n",
       "3              0               1             0                 1  ...   \n",
       "4              0               0             0                 0  ...   \n",
       "\n",
       "   InternetService_DSL  InternetService_Fiber optic  InternetService_No  \\\n",
       "0                    1                            0                   0   \n",
       "1                    1                            0                   0   \n",
       "2                    1                            0                   0   \n",
       "3                    1                            0                   0   \n",
       "4                    0                            1                   0   \n",
       "\n",
       "   Contract_Month-to-month  Contract_One year  Contract_Two year  \\\n",
       "0                        1                  0                  0   \n",
       "1                        0                  1                  0   \n",
       "2                        1                  0                  0   \n",
       "3                        0                  1                  0   \n",
       "4                        1                  0                  0   \n",
       "\n",
       "   PaymentMethod_Bank transfer (automatic)  \\\n",
       "0                                        0   \n",
       "1                                        0   \n",
       "2                                        0   \n",
       "3                                        1   \n",
       "4                                        0   \n",
       "\n",
       "   PaymentMethod_Credit card (automatic)  PaymentMethod_Electronic check  \\\n",
       "0                                      0                               1   \n",
       "1                                      0                               0   \n",
       "2                                      0                               0   \n",
       "3                                      0                               0   \n",
       "4                                      0                               1   \n",
       "\n",
       "   PaymentMethod_Mailed check  \n",
       "0                           0  \n",
       "1                           1  \n",
       "2                           1  \n",
       "3                           0  \n",
       "4                           0  \n",
       "\n",
       "[5 rows x 27 columns]"
      ]
     },
     "execution_count": 68,
     "metadata": {},
     "output_type": "execute_result"
    }
   ],
   "source": [
    "df = pd.get_dummies(df, columns = ['InternetService', 'Contract','PaymentMethod'])\n",
    "df.head()"
   ]
  },
  {
   "cell_type": "code",
   "execution_count": 69,
   "id": "769beae8",
   "metadata": {},
   "outputs": [
    {
     "data": {
      "text/plain": [
       "Index(['gender', 'SeniorCitizen', 'Partner', 'Dependents', 'tenure',\n",
       "       'PhoneService', 'MultipleLines', 'OnlineSecurity', 'OnlineBackup',\n",
       "       'DeviceProtection', 'TechSupport', 'StreamingTV', 'StreamingMovies',\n",
       "       'PaperlessBilling', 'MonthlyCharges', 'TotalCharges', 'Churn',\n",
       "       'InternetService_DSL', 'InternetService_Fiber optic',\n",
       "       'InternetService_No', 'Contract_Month-to-month', 'Contract_One year',\n",
       "       'Contract_Two year', 'PaymentMethod_Bank transfer (automatic)',\n",
       "       'PaymentMethod_Credit card (automatic)',\n",
       "       'PaymentMethod_Electronic check', 'PaymentMethod_Mailed check'],\n",
       "      dtype='object')"
      ]
     },
     "execution_count": 69,
     "metadata": {},
     "output_type": "execute_result"
    }
   ],
   "source": [
    "df.columns"
   ]
  },
  {
   "cell_type": "code",
   "execution_count": 70,
   "id": "eb948172",
   "metadata": {},
   "outputs": [
    {
     "data": {
      "text/html": [
       "<div>\n",
       "<style scoped>\n",
       "    .dataframe tbody tr th:only-of-type {\n",
       "        vertical-align: middle;\n",
       "    }\n",
       "\n",
       "    .dataframe tbody tr th {\n",
       "        vertical-align: top;\n",
       "    }\n",
       "\n",
       "    .dataframe thead th {\n",
       "        text-align: right;\n",
       "    }\n",
       "</style>\n",
       "<table border=\"1\" class=\"dataframe\">\n",
       "  <thead>\n",
       "    <tr style=\"text-align: right;\">\n",
       "      <th></th>\n",
       "      <th>gender</th>\n",
       "      <th>SeniorCitizen</th>\n",
       "      <th>Partner</th>\n",
       "      <th>Dependents</th>\n",
       "      <th>tenure</th>\n",
       "      <th>PhoneService</th>\n",
       "      <th>MultipleLines</th>\n",
       "      <th>OnlineSecurity</th>\n",
       "      <th>OnlineBackup</th>\n",
       "      <th>DeviceProtection</th>\n",
       "      <th>...</th>\n",
       "      <th>InternetService_DSL</th>\n",
       "      <th>InternetService_Fiber optic</th>\n",
       "      <th>InternetService_No</th>\n",
       "      <th>Contract_Month-to-month</th>\n",
       "      <th>Contract_One year</th>\n",
       "      <th>Contract_Two year</th>\n",
       "      <th>PaymentMethod_Bank transfer (automatic)</th>\n",
       "      <th>PaymentMethod_Credit card (automatic)</th>\n",
       "      <th>PaymentMethod_Electronic check</th>\n",
       "      <th>PaymentMethod_Mailed check</th>\n",
       "    </tr>\n",
       "  </thead>\n",
       "  <tbody>\n",
       "    <tr>\n",
       "      <th>6247</th>\n",
       "      <td>1</td>\n",
       "      <td>0</td>\n",
       "      <td>0</td>\n",
       "      <td>0</td>\n",
       "      <td>60</td>\n",
       "      <td>1</td>\n",
       "      <td>1</td>\n",
       "      <td>0</td>\n",
       "      <td>0</td>\n",
       "      <td>1</td>\n",
       "      <td>...</td>\n",
       "      <td>0</td>\n",
       "      <td>1</td>\n",
       "      <td>0</td>\n",
       "      <td>0</td>\n",
       "      <td>0</td>\n",
       "      <td>1</td>\n",
       "      <td>0</td>\n",
       "      <td>0</td>\n",
       "      <td>1</td>\n",
       "      <td>0</td>\n",
       "    </tr>\n",
       "    <tr>\n",
       "      <th>5296</th>\n",
       "      <td>0</td>\n",
       "      <td>0</td>\n",
       "      <td>0</td>\n",
       "      <td>0</td>\n",
       "      <td>57</td>\n",
       "      <td>0</td>\n",
       "      <td>0</td>\n",
       "      <td>1</td>\n",
       "      <td>0</td>\n",
       "      <td>1</td>\n",
       "      <td>...</td>\n",
       "      <td>1</td>\n",
       "      <td>0</td>\n",
       "      <td>0</td>\n",
       "      <td>0</td>\n",
       "      <td>1</td>\n",
       "      <td>0</td>\n",
       "      <td>0</td>\n",
       "      <td>1</td>\n",
       "      <td>0</td>\n",
       "      <td>0</td>\n",
       "    </tr>\n",
       "    <tr>\n",
       "      <th>4746</th>\n",
       "      <td>1</td>\n",
       "      <td>0</td>\n",
       "      <td>0</td>\n",
       "      <td>0</td>\n",
       "      <td>2</td>\n",
       "      <td>1</td>\n",
       "      <td>1</td>\n",
       "      <td>0</td>\n",
       "      <td>0</td>\n",
       "      <td>0</td>\n",
       "      <td>...</td>\n",
       "      <td>0</td>\n",
       "      <td>1</td>\n",
       "      <td>0</td>\n",
       "      <td>1</td>\n",
       "      <td>0</td>\n",
       "      <td>0</td>\n",
       "      <td>0</td>\n",
       "      <td>0</td>\n",
       "      <td>1</td>\n",
       "      <td>0</td>\n",
       "    </tr>\n",
       "    <tr>\n",
       "      <th>778</th>\n",
       "      <td>0</td>\n",
       "      <td>0</td>\n",
       "      <td>1</td>\n",
       "      <td>0</td>\n",
       "      <td>59</td>\n",
       "      <td>1</td>\n",
       "      <td>1</td>\n",
       "      <td>1</td>\n",
       "      <td>1</td>\n",
       "      <td>1</td>\n",
       "      <td>...</td>\n",
       "      <td>0</td>\n",
       "      <td>1</td>\n",
       "      <td>0</td>\n",
       "      <td>0</td>\n",
       "      <td>1</td>\n",
       "      <td>0</td>\n",
       "      <td>0</td>\n",
       "      <td>1</td>\n",
       "      <td>0</td>\n",
       "      <td>0</td>\n",
       "    </tr>\n",
       "    <tr>\n",
       "      <th>162</th>\n",
       "      <td>0</td>\n",
       "      <td>0</td>\n",
       "      <td>0</td>\n",
       "      <td>0</td>\n",
       "      <td>2</td>\n",
       "      <td>1</td>\n",
       "      <td>0</td>\n",
       "      <td>0</td>\n",
       "      <td>0</td>\n",
       "      <td>0</td>\n",
       "      <td>...</td>\n",
       "      <td>0</td>\n",
       "      <td>1</td>\n",
       "      <td>0</td>\n",
       "      <td>1</td>\n",
       "      <td>0</td>\n",
       "      <td>0</td>\n",
       "      <td>0</td>\n",
       "      <td>0</td>\n",
       "      <td>1</td>\n",
       "      <td>0</td>\n",
       "    </tr>\n",
       "  </tbody>\n",
       "</table>\n",
       "<p>5 rows × 27 columns</p>\n",
       "</div>"
      ],
      "text/plain": [
       "      gender  SeniorCitizen  Partner  Dependents  tenure  PhoneService  \\\n",
       "6247       1              0        0           0      60             1   \n",
       "5296       0              0        0           0      57             0   \n",
       "4746       1              0        0           0       2             1   \n",
       "778        0              0        1           0      59             1   \n",
       "162        0              0        0           0       2             1   \n",
       "\n",
       "      MultipleLines  OnlineSecurity  OnlineBackup  DeviceProtection  ...  \\\n",
       "6247              1               0             0                 1  ...   \n",
       "5296              0               1             0                 1  ...   \n",
       "4746              1               0             0                 0  ...   \n",
       "778               1               1             1                 1  ...   \n",
       "162               0               0             0                 0  ...   \n",
       "\n",
       "      InternetService_DSL  InternetService_Fiber optic  InternetService_No  \\\n",
       "6247                    0                            1                   0   \n",
       "5296                    1                            0                   0   \n",
       "4746                    0                            1                   0   \n",
       "778                     0                            1                   0   \n",
       "162                     0                            1                   0   \n",
       "\n",
       "      Contract_Month-to-month  Contract_One year  Contract_Two year  \\\n",
       "6247                        0                  0                  1   \n",
       "5296                        0                  1                  0   \n",
       "4746                        1                  0                  0   \n",
       "778                         0                  1                  0   \n",
       "162                         1                  0                  0   \n",
       "\n",
       "      PaymentMethod_Bank transfer (automatic)  \\\n",
       "6247                                        0   \n",
       "5296                                        0   \n",
       "4746                                        0   \n",
       "778                                         0   \n",
       "162                                         0   \n",
       "\n",
       "      PaymentMethod_Credit card (automatic)  PaymentMethod_Electronic check  \\\n",
       "6247                                      0                               1   \n",
       "5296                                      1                               0   \n",
       "4746                                      0                               1   \n",
       "778                                       1                               0   \n",
       "162                                       0                               1   \n",
       "\n",
       "      PaymentMethod_Mailed check  \n",
       "6247                           0  \n",
       "5296                           0  \n",
       "4746                           0  \n",
       "778                            0  \n",
       "162                            0  \n",
       "\n",
       "[5 rows x 27 columns]"
      ]
     },
     "execution_count": 70,
     "metadata": {},
     "output_type": "execute_result"
    }
   ],
   "source": [
    "df.sample(5)"
   ]
  },
  {
   "cell_type": "markdown",
   "id": "f8195403",
   "metadata": {},
   "source": [
    "#### Preprocessing"
   ]
  },
  {
   "cell_type": "code",
   "execution_count": 71,
   "id": "53d0d5ab",
   "metadata": {},
   "outputs": [],
   "source": [
    "from sklearn.preprocessing import MinMaxScaler\n",
    "scaler = MinMaxScaler()\n",
    "cols_to_scale = ['tenure','MonthlyCharges','TotalCharges']\n",
    "df[cols_to_scale] = scaler.fit_transform(df[cols_to_scale])"
   ]
  },
  {
   "cell_type": "code",
   "execution_count": 72,
   "id": "95b102d1",
   "metadata": {},
   "outputs": [
    {
     "data": {
      "text/plain": [
       "0       0.001275\n",
       "1       0.215867\n",
       "2       0.010310\n",
       "3       0.210241\n",
       "4       0.015330\n",
       "          ...   \n",
       "7038    0.227521\n",
       "7039    0.847461\n",
       "7040    0.037809\n",
       "7041    0.033210\n",
       "7042    0.787641\n",
       "Name: TotalCharges, Length: 7032, dtype: float64"
      ]
     },
     "execution_count": 72,
     "metadata": {},
     "output_type": "execute_result"
    }
   ],
   "source": [
    "df.TotalCharges"
   ]
  },
  {
   "cell_type": "code",
   "execution_count": 73,
   "id": "aa2d5b08",
   "metadata": {},
   "outputs": [],
   "source": [
    "y = df['Churn']\n",
    "x = df.drop(columns = 'Churn')"
   ]
  },
  {
   "cell_type": "markdown",
   "id": "5659ae3e",
   "metadata": {},
   "source": [
    "#### Model Building"
   ]
  },
  {
   "cell_type": "code",
   "execution_count": 74,
   "id": "868c08ab",
   "metadata": {},
   "outputs": [],
   "source": [
    "from sklearn.model_selection import train_test_split\n",
    "xtrain, xtest, ytrain, ytest = train_test_split(x, y, train_size= 0.8)"
   ]
  },
  {
   "cell_type": "code",
   "execution_count": 75,
   "id": "742a748b",
   "metadata": {},
   "outputs": [
    {
     "data": {
      "text/plain": [
       "(5625, 26)"
      ]
     },
     "execution_count": 75,
     "metadata": {},
     "output_type": "execute_result"
    }
   ],
   "source": [
    "xtrain.shape"
   ]
  },
  {
   "cell_type": "code",
   "execution_count": 76,
   "id": "393fe801",
   "metadata": {},
   "outputs": [
    {
     "data": {
      "text/plain": [
       "(1407, 26)"
      ]
     },
     "execution_count": 76,
     "metadata": {},
     "output_type": "execute_result"
    }
   ],
   "source": [
    "xtest.shape"
   ]
  },
  {
   "cell_type": "code",
   "execution_count": 77,
   "id": "da6c52c8",
   "metadata": {},
   "outputs": [],
   "source": [
    "import tensorflow as tf\n",
    "from tensorflow import keras"
   ]
  },
  {
   "cell_type": "markdown",
   "id": "f1eaf2d8",
   "metadata": {},
   "source": [
    "1. ANN with minimum neurons"
   ]
  },
  {
   "cell_type": "code",
   "execution_count": 78,
   "id": "10042a67",
   "metadata": {},
   "outputs": [],
   "source": [
    "model = keras.Sequential([\n",
    "    keras.layers.Dense(26, input_shape = (26,), activation = 'relu'),\n",
    "    keras.layers.Dense(13, activation = 'relu'),\n",
    "    keras.layers.Dense(6, activation = 'relu'),\n",
    "    keras.layers.Dense(1, activation = 'sigmoid')\n",
    "])"
   ]
  },
  {
   "cell_type": "code",
   "execution_count": 79,
   "id": "31437128",
   "metadata": {},
   "outputs": [],
   "source": [
    "model.compile(optimizer = 'adam', loss = 'binary_crossentropy', metrics='accuracy')"
   ]
  },
  {
   "cell_type": "code",
   "execution_count": 80,
   "id": "94eb57eb",
   "metadata": {},
   "outputs": [
    {
     "name": "stdout",
     "output_type": "stream",
     "text": [
      "Epoch 1/50\n",
      "176/176 [==============================] - 1s 3ms/step - loss: 0.5494 - accuracy: 0.7236\n",
      "Epoch 2/50\n",
      "176/176 [==============================] - 0s 3ms/step - loss: 0.4300 - accuracy: 0.7906\n",
      "Epoch 3/50\n",
      "176/176 [==============================] - 0s 3ms/step - loss: 0.4215 - accuracy: 0.7989\n",
      "Epoch 4/50\n",
      "176/176 [==============================] - 1s 3ms/step - loss: 0.4175 - accuracy: 0.7989\n",
      "Epoch 5/50\n",
      "176/176 [==============================] - 1s 3ms/step - loss: 0.4161 - accuracy: 0.8004\n",
      "Epoch 6/50\n",
      "176/176 [==============================] - 0s 3ms/step - loss: 0.4140 - accuracy: 0.8036\n",
      "Epoch 7/50\n",
      "176/176 [==============================] - 1s 4ms/step - loss: 0.4127 - accuracy: 0.8036\n",
      "Epoch 8/50\n",
      "176/176 [==============================] - 1s 3ms/step - loss: 0.4123 - accuracy: 0.8057\n",
      "Epoch 9/50\n",
      "176/176 [==============================] - 1s 3ms/step - loss: 0.4094 - accuracy: 0.8073\n",
      "Epoch 10/50\n",
      "176/176 [==============================] - 1s 3ms/step - loss: 0.4071 - accuracy: 0.8069\n",
      "Epoch 11/50\n",
      "176/176 [==============================] - 1s 4ms/step - loss: 0.4063 - accuracy: 0.8068\n",
      "Epoch 12/50\n",
      "176/176 [==============================] - 1s 4ms/step - loss: 0.4067 - accuracy: 0.8057\n",
      "Epoch 13/50\n",
      "176/176 [==============================] - 0s 3ms/step - loss: 0.4042 - accuracy: 0.8050\n",
      "Epoch 14/50\n",
      "176/176 [==============================] - 1s 3ms/step - loss: 0.4027 - accuracy: 0.8080\n",
      "Epoch 15/50\n",
      "176/176 [==============================] - 1s 3ms/step - loss: 0.4017 - accuracy: 0.8094\n",
      "Epoch 16/50\n",
      "176/176 [==============================] - 1s 5ms/step - loss: 0.4007 - accuracy: 0.8071\n",
      "Epoch 17/50\n",
      "176/176 [==============================] - 1s 4ms/step - loss: 0.4008 - accuracy: 0.8085\n",
      "Epoch 18/50\n",
      "176/176 [==============================] - 1s 3ms/step - loss: 0.3978 - accuracy: 0.8087\n",
      "Epoch 19/50\n",
      "176/176 [==============================] - 1s 4ms/step - loss: 0.3978 - accuracy: 0.8119\n",
      "Epoch 20/50\n",
      "176/176 [==============================] - 1s 4ms/step - loss: 0.3972 - accuracy: 0.8105\n",
      "Epoch 21/50\n",
      "176/176 [==============================] - 1s 4ms/step - loss: 0.3956 - accuracy: 0.8110\n",
      "Epoch 22/50\n",
      "176/176 [==============================] - 1s 3ms/step - loss: 0.3960 - accuracy: 0.8116\n",
      "Epoch 23/50\n",
      "176/176 [==============================] - 1s 3ms/step - loss: 0.3943 - accuracy: 0.8091\n",
      "Epoch 24/50\n",
      "176/176 [==============================] - 0s 3ms/step - loss: 0.3941 - accuracy: 0.8121\n",
      "Epoch 25/50\n",
      "176/176 [==============================] - 1s 3ms/step - loss: 0.3922 - accuracy: 0.8133\n",
      "Epoch 26/50\n",
      "176/176 [==============================] - 1s 4ms/step - loss: 0.3916 - accuracy: 0.8128\n",
      "Epoch 27/50\n",
      "176/176 [==============================] - 1s 4ms/step - loss: 0.3915 - accuracy: 0.8101\n",
      "Epoch 28/50\n",
      "176/176 [==============================] - 1s 4ms/step - loss: 0.3900 - accuracy: 0.8142\n",
      "Epoch 29/50\n",
      "176/176 [==============================] - 1s 4ms/step - loss: 0.3906 - accuracy: 0.8126\n",
      "Epoch 30/50\n",
      "176/176 [==============================] - 1s 3ms/step - loss: 0.3890 - accuracy: 0.8130\n",
      "Epoch 31/50\n",
      "176/176 [==============================] - 1s 3ms/step - loss: 0.3894 - accuracy: 0.8123\n",
      "Epoch 32/50\n",
      "176/176 [==============================] - 1s 3ms/step - loss: 0.3860 - accuracy: 0.8164\n",
      "Epoch 33/50\n",
      "176/176 [==============================] - 1s 3ms/step - loss: 0.3884 - accuracy: 0.8178\n",
      "Epoch 34/50\n",
      "176/176 [==============================] - 1s 3ms/step - loss: 0.3872 - accuracy: 0.8164\n",
      "Epoch 35/50\n",
      "176/176 [==============================] - 0s 3ms/step - loss: 0.3853 - accuracy: 0.8176\n",
      "Epoch 36/50\n",
      "176/176 [==============================] - 1s 3ms/step - loss: 0.3862 - accuracy: 0.8169\n",
      "Epoch 37/50\n",
      "176/176 [==============================] - 0s 3ms/step - loss: 0.3851 - accuracy: 0.8176\n",
      "Epoch 38/50\n",
      "176/176 [==============================] - 1s 3ms/step - loss: 0.3855 - accuracy: 0.8187\n",
      "Epoch 39/50\n",
      "176/176 [==============================] - 1s 4ms/step - loss: 0.3837 - accuracy: 0.8181\n",
      "Epoch 40/50\n",
      "176/176 [==============================] - 1s 3ms/step - loss: 0.3844 - accuracy: 0.8178\n",
      "Epoch 41/50\n",
      "176/176 [==============================] - 1s 3ms/step - loss: 0.3829 - accuracy: 0.8194\n",
      "Epoch 42/50\n",
      "176/176 [==============================] - 1s 3ms/step - loss: 0.3816 - accuracy: 0.8219\n",
      "Epoch 43/50\n",
      "176/176 [==============================] - 1s 3ms/step - loss: 0.3822 - accuracy: 0.8203\n",
      "Epoch 44/50\n",
      "176/176 [==============================] - 1s 3ms/step - loss: 0.3816 - accuracy: 0.8224\n",
      "Epoch 45/50\n",
      "176/176 [==============================] - 0s 3ms/step - loss: 0.3794 - accuracy: 0.8188\n",
      "Epoch 46/50\n",
      "176/176 [==============================] - 1s 4ms/step - loss: 0.3813 - accuracy: 0.8196\n",
      "Epoch 47/50\n",
      "176/176 [==============================] - 0s 3ms/step - loss: 0.3810 - accuracy: 0.8172\n",
      "Epoch 48/50\n",
      "176/176 [==============================] - 1s 3ms/step - loss: 0.3803 - accuracy: 0.8213\n",
      "Epoch 49/50\n",
      "176/176 [==============================] - 1s 4ms/step - loss: 0.3797 - accuracy: 0.8238\n",
      "Epoch 50/50\n",
      "176/176 [==============================] - 0s 3ms/step - loss: 0.3782 - accuracy: 0.8215\n"
     ]
    },
    {
     "data": {
      "text/plain": [
       "<keras.callbacks.History at 0x1b971fa9120>"
      ]
     },
     "execution_count": 80,
     "metadata": {},
     "output_type": "execute_result"
    }
   ],
   "source": [
    "model.fit(xtrain, ytrain, epochs = 50)"
   ]
  },
  {
   "cell_type": "code",
   "execution_count": 101,
   "id": "bb28cfe7",
   "metadata": {
    "scrolled": true
   },
   "outputs": [
    {
     "name": "stdout",
     "output_type": "stream",
     "text": [
      "44/44 [==============================] - 0s 2ms/step\n",
      "44/44 [==============================] - 0s 4ms/step - loss: 0.6440 - accuracy: 0.7754\n"
     ]
    },
    {
     "data": {
      "text/plain": [
       "[0.6439998745918274, 0.7754086852073669]"
      ]
     },
     "execution_count": 101,
     "metadata": {},
     "output_type": "execute_result"
    }
   ],
   "source": [
    "ypred = model.predict(xtest)\n",
    "model.evaluate(xtest, ytest)"
   ]
  },
  {
   "cell_type": "code",
   "execution_count": 83,
   "id": "13de1398",
   "metadata": {},
   "outputs": [],
   "source": [
    "from sklearn.metrics import confusion_matrix, classification_report"
   ]
  },
  {
   "cell_type": "code",
   "execution_count": 84,
   "id": "42d858e1",
   "metadata": {},
   "outputs": [
    {
     "data": {
      "text/plain": [
       "4501    0\n",
       "1559    0\n",
       "6524    1\n",
       "3755    1\n",
       "3754    0\n",
       "1813    0\n",
       "66      0\n",
       "698     0\n",
       "138     0\n",
       "3991    1\n",
       "Name: Churn, dtype: int64"
      ]
     },
     "execution_count": 84,
     "metadata": {},
     "output_type": "execute_result"
    }
   ],
   "source": [
    "ytest[:10]"
   ]
  },
  {
   "cell_type": "code",
   "execution_count": 85,
   "id": "a4623917",
   "metadata": {
    "scrolled": true
   },
   "outputs": [
    {
     "data": {
      "text/plain": [
       "array([[0.00716145],\n",
       "       [0.24886923],\n",
       "       [0.6053888 ],\n",
       "       [0.6934113 ],\n",
       "       [0.25303948],\n",
       "       [0.60831803],\n",
       "       [0.24445324],\n",
       "       [0.08245731],\n",
       "       [0.00263437],\n",
       "       [0.7116759 ]], dtype=float32)"
      ]
     },
     "execution_count": 85,
     "metadata": {},
     "output_type": "execute_result"
    }
   ],
   "source": [
    "ypred[:10]"
   ]
  },
  {
   "cell_type": "code",
   "execution_count": 86,
   "id": "847c2cc5",
   "metadata": {},
   "outputs": [],
   "source": [
    "yt = []\n",
    "for i in ypred:\n",
    "    if i > 0.5:\n",
    "        yt.append(1)\n",
    "    else:\n",
    "        yt.append(0)"
   ]
  },
  {
   "cell_type": "code",
   "execution_count": 87,
   "id": "de4168f6",
   "metadata": {},
   "outputs": [
    {
     "name": "stdout",
     "output_type": "stream",
     "text": [
      "              precision    recall  f1-score   support\n",
      "\n",
      "           0       0.87      0.86      0.86      1044\n",
      "           1       0.61      0.62      0.61       363\n",
      "\n",
      "    accuracy                           0.80      1407\n",
      "   macro avg       0.74      0.74      0.74      1407\n",
      "weighted avg       0.80      0.80      0.80      1407\n",
      "\n"
     ]
    }
   ],
   "source": [
    "print(classification_report(yt, ytest))"
   ]
  },
  {
   "cell_type": "markdown",
   "id": "e7ac1e1c",
   "metadata": {},
   "source": [
    "2. ANN with more layers, neurons and leaky_relu activation function"
   ]
  },
  {
   "cell_type": "code",
   "execution_count": 96,
   "id": "e5391515",
   "metadata": {},
   "outputs": [
    {
     "name": "stdout",
     "output_type": "stream",
     "text": [
      "Epoch 1/50\n",
      "176/176 [==============================] - 2s 5ms/step - loss: 0.4542 - accuracy: 0.7842\n",
      "Epoch 2/50\n",
      "176/176 [==============================] - 1s 4ms/step - loss: 0.4172 - accuracy: 0.8020\n",
      "Epoch 3/50\n",
      "176/176 [==============================] - 1s 4ms/step - loss: 0.4133 - accuracy: 0.8005\n",
      "Epoch 4/50\n",
      "176/176 [==============================] - 1s 4ms/step - loss: 0.4101 - accuracy: 0.8052\n",
      "Epoch 5/50\n",
      "176/176 [==============================] - 1s 4ms/step - loss: 0.4059 - accuracy: 0.8092\n",
      "Epoch 6/50\n",
      "176/176 [==============================] - 1s 5ms/step - loss: 0.4029 - accuracy: 0.8117\n",
      "Epoch 7/50\n",
      "176/176 [==============================] - 1s 4ms/step - loss: 0.4013 - accuracy: 0.8105\n",
      "Epoch 8/50\n",
      "176/176 [==============================] - 1s 5ms/step - loss: 0.3980 - accuracy: 0.8105\n",
      "Epoch 9/50\n",
      "176/176 [==============================] - 1s 5ms/step - loss: 0.3956 - accuracy: 0.8123\n",
      "Epoch 10/50\n",
      "176/176 [==============================] - 1s 5ms/step - loss: 0.3938 - accuracy: 0.8164\n",
      "Epoch 11/50\n",
      "176/176 [==============================] - 1s 4ms/step - loss: 0.3901 - accuracy: 0.8155\n",
      "Epoch 12/50\n",
      "176/176 [==============================] - 1s 4ms/step - loss: 0.3873 - accuracy: 0.8190\n",
      "Epoch 13/50\n",
      "176/176 [==============================] - 1s 5ms/step - loss: 0.3838 - accuracy: 0.8153\n",
      "Epoch 14/50\n",
      "176/176 [==============================] - 1s 4ms/step - loss: 0.3785 - accuracy: 0.8220\n",
      "Epoch 15/50\n",
      "176/176 [==============================] - 1s 4ms/step - loss: 0.3756 - accuracy: 0.8188\n",
      "Epoch 16/50\n",
      "176/176 [==============================] - 1s 4ms/step - loss: 0.3714 - accuracy: 0.8233\n",
      "Epoch 17/50\n",
      "176/176 [==============================] - 1s 4ms/step - loss: 0.3690 - accuracy: 0.8238\n",
      "Epoch 18/50\n",
      "176/176 [==============================] - 1s 5ms/step - loss: 0.3668 - accuracy: 0.8292\n",
      "Epoch 19/50\n",
      "176/176 [==============================] - 1s 4ms/step - loss: 0.3606 - accuracy: 0.8320\n",
      "Epoch 20/50\n",
      "176/176 [==============================] - 1s 4ms/step - loss: 0.3589 - accuracy: 0.8331\n",
      "Epoch 21/50\n",
      "176/176 [==============================] - 1s 4ms/step - loss: 0.3569 - accuracy: 0.8318\n",
      "Epoch 22/50\n",
      "176/176 [==============================] - 1s 5ms/step - loss: 0.3519 - accuracy: 0.8316\n",
      "Epoch 23/50\n",
      "176/176 [==============================] - 1s 5ms/step - loss: 0.3525 - accuracy: 0.8318\n",
      "Epoch 24/50\n",
      "176/176 [==============================] - 1s 5ms/step - loss: 0.3429 - accuracy: 0.8352\n",
      "Epoch 25/50\n",
      "176/176 [==============================] - 1s 5ms/step - loss: 0.3406 - accuracy: 0.8393\n",
      "Epoch 26/50\n",
      "176/176 [==============================] - 1s 5ms/step - loss: 0.3382 - accuracy: 0.8430\n",
      "Epoch 27/50\n",
      "176/176 [==============================] - 1s 4ms/step - loss: 0.3332 - accuracy: 0.8480\n",
      "Epoch 28/50\n",
      "176/176 [==============================] - 1s 4ms/step - loss: 0.3294 - accuracy: 0.8485\n",
      "Epoch 29/50\n",
      "176/176 [==============================] - 1s 4ms/step - loss: 0.3251 - accuracy: 0.8471\n",
      "Epoch 30/50\n",
      "176/176 [==============================] - 1s 5ms/step - loss: 0.3244 - accuracy: 0.8516\n",
      "Epoch 31/50\n",
      "176/176 [==============================] - 1s 4ms/step - loss: 0.3165 - accuracy: 0.8533\n",
      "Epoch 32/50\n",
      "176/176 [==============================] - 1s 4ms/step - loss: 0.3131 - accuracy: 0.8553\n",
      "Epoch 33/50\n",
      "176/176 [==============================] - 1s 5ms/step - loss: 0.3103 - accuracy: 0.8588\n",
      "Epoch 34/50\n",
      "176/176 [==============================] - 1s 5ms/step - loss: 0.3036 - accuracy: 0.8585\n",
      "Epoch 35/50\n",
      "176/176 [==============================] - 1s 4ms/step - loss: 0.3011 - accuracy: 0.8583\n",
      "Epoch 36/50\n",
      "176/176 [==============================] - 1s 4ms/step - loss: 0.2992 - accuracy: 0.8636\n",
      "Epoch 37/50\n",
      "176/176 [==============================] - 1s 4ms/step - loss: 0.2928 - accuracy: 0.8636\n",
      "Epoch 38/50\n",
      "176/176 [==============================] - 1s 4ms/step - loss: 0.2918 - accuracy: 0.8635\n",
      "Epoch 39/50\n",
      "176/176 [==============================] - 1s 5ms/step - loss: 0.2870 - accuracy: 0.8661\n",
      "Epoch 40/50\n",
      "176/176 [==============================] - 1s 5ms/step - loss: 0.2812 - accuracy: 0.8704\n",
      "Epoch 41/50\n",
      "176/176 [==============================] - 1s 5ms/step - loss: 0.2803 - accuracy: 0.8713\n",
      "Epoch 42/50\n",
      "176/176 [==============================] - 1s 4ms/step - loss: 0.2773 - accuracy: 0.8715\n",
      "Epoch 43/50\n",
      "176/176 [==============================] - 1s 4ms/step - loss: 0.2708 - accuracy: 0.8756\n",
      "Epoch 44/50\n",
      "176/176 [==============================] - 1s 4ms/step - loss: 0.2671 - accuracy: 0.8768\n",
      "Epoch 45/50\n",
      "176/176 [==============================] - 1s 4ms/step - loss: 0.2638 - accuracy: 0.8788\n",
      "Epoch 46/50\n",
      "176/176 [==============================] - 1s 4ms/step - loss: 0.2581 - accuracy: 0.8839\n",
      "Epoch 47/50\n",
      "176/176 [==============================] - 1s 4ms/step - loss: 0.2536 - accuracy: 0.8832\n",
      "Epoch 48/50\n",
      "176/176 [==============================] - 1s 5ms/step - loss: 0.2510 - accuracy: 0.8834\n",
      "Epoch 49/50\n",
      "176/176 [==============================] - 1s 4ms/step - loss: 0.2488 - accuracy: 0.8901\n",
      "Epoch 50/50\n",
      "176/176 [==============================] - 1s 4ms/step - loss: 0.2469 - accuracy: 0.8844\n"
     ]
    },
    {
     "data": {
      "text/plain": [
       "<keras.callbacks.History at 0x1b974454130>"
      ]
     },
     "execution_count": 96,
     "metadata": {},
     "output_type": "execute_result"
    }
   ],
   "source": [
    "model = keras.Sequential([\n",
    "    keras.layers.Dense(100, input_shape = (26,), activation = 'leaky_relu'),\n",
    "    keras.layers.Dense(50, activation = 'relu'),\n",
    "    keras.layers.Dense(30, activation = 'relu'),\n",
    "    keras.layers.Dense(1, activation = 'sigmoid')\n",
    "])\n",
    "model.compile(optimizer = 'adam', loss = 'binary_crossentropy', metrics='accuracy')\n",
    "model.fit(xtrain, ytrain, epochs = 50)"
   ]
  },
  {
   "cell_type": "code",
   "execution_count": 102,
   "id": "0df562b4",
   "metadata": {},
   "outputs": [
    {
     "name": "stdout",
     "output_type": "stream",
     "text": [
      "44/44 [==============================] - 0s 2ms/step\n",
      "44/44 [==============================] - 0s 3ms/step - loss: 0.6440 - accuracy: 0.7754\n"
     ]
    },
    {
     "data": {
      "text/plain": [
       "[0.6439998745918274, 0.7754086852073669]"
      ]
     },
     "execution_count": 102,
     "metadata": {},
     "output_type": "execute_result"
    }
   ],
   "source": [
    "ypred = model.predict(xtest)\n",
    "model.evaluate(xtest, ytest)"
   ]
  },
  {
   "cell_type": "code",
   "execution_count": 99,
   "id": "665c9f20",
   "metadata": {},
   "outputs": [],
   "source": [
    "yt = []\n",
    "for i in ypred:\n",
    "    if i > 0.5:\n",
    "        yt.append(1)\n",
    "    else:\n",
    "        yt.append(0)"
   ]
  },
  {
   "cell_type": "code",
   "execution_count": 100,
   "id": "29b3a709",
   "metadata": {},
   "outputs": [
    {
     "name": "stdout",
     "output_type": "stream",
     "text": [
      "              precision    recall  f1-score   support\n",
      "\n",
      "           0       0.85      0.85      0.85      1042\n",
      "           1       0.57      0.58      0.57       365\n",
      "\n",
      "    accuracy                           0.78      1407\n",
      "   macro avg       0.71      0.71      0.71      1407\n",
      "weighted avg       0.78      0.78      0.78      1407\n",
      "\n"
     ]
    }
   ],
   "source": [
    "print(classification_report(yt, ytest))"
   ]
  },
  {
   "cell_type": "markdown",
   "id": "588c2bdc",
   "metadata": {},
   "source": [
    "3. ANN with Dropout Layers and relu activation function"
   ]
  },
  {
   "cell_type": "code",
   "execution_count": 107,
   "id": "4e48c504",
   "metadata": {},
   "outputs": [
    {
     "name": "stdout",
     "output_type": "stream",
     "text": [
      "Epoch 1/50\n",
      "176/176 [==============================] - 3s 6ms/step - loss: 0.5560 - accuracy: 0.7170\n",
      "Epoch 2/50\n",
      "176/176 [==============================] - 1s 6ms/step - loss: 0.4807 - accuracy: 0.7621\n",
      "Epoch 3/50\n",
      "176/176 [==============================] - 1s 5ms/step - loss: 0.4631 - accuracy: 0.7703\n",
      "Epoch 4/50\n",
      "176/176 [==============================] - 1s 6ms/step - loss: 0.4566 - accuracy: 0.7767\n",
      "Epoch 5/50\n",
      "176/176 [==============================] - 1s 6ms/step - loss: 0.4437 - accuracy: 0.7788\n",
      "Epoch 6/50\n",
      "176/176 [==============================] - 1s 6ms/step - loss: 0.4453 - accuracy: 0.7884\n",
      "Epoch 7/50\n",
      "176/176 [==============================] - 1s 6ms/step - loss: 0.4428 - accuracy: 0.7895\n",
      "Epoch 8/50\n",
      "176/176 [==============================] - 1s 6ms/step - loss: 0.4436 - accuracy: 0.7884\n",
      "Epoch 9/50\n",
      "176/176 [==============================] - 1s 6ms/step - loss: 0.4383 - accuracy: 0.7973\n",
      "Epoch 10/50\n",
      "176/176 [==============================] - 1s 5ms/step - loss: 0.4335 - accuracy: 0.7911\n",
      "Epoch 11/50\n",
      "176/176 [==============================] - 1s 6ms/step - loss: 0.4272 - accuracy: 0.7945\n",
      "Epoch 12/50\n",
      "176/176 [==============================] - 1s 6ms/step - loss: 0.4335 - accuracy: 0.7945\n",
      "Epoch 13/50\n",
      "176/176 [==============================] - 1s 6ms/step - loss: 0.4293 - accuracy: 0.7995\n",
      "Epoch 14/50\n",
      "176/176 [==============================] - 1s 4ms/step - loss: 0.4287 - accuracy: 0.7982\n",
      "Epoch 15/50\n",
      "176/176 [==============================] - 1s 5ms/step - loss: 0.4294 - accuracy: 0.7966\n",
      "Epoch 16/50\n",
      "176/176 [==============================] - 1s 6ms/step - loss: 0.4250 - accuracy: 0.7980\n",
      "Epoch 17/50\n",
      "176/176 [==============================] - 1s 5ms/step - loss: 0.4220 - accuracy: 0.7977\n",
      "Epoch 18/50\n",
      "176/176 [==============================] - 1s 5ms/step - loss: 0.4212 - accuracy: 0.7986\n",
      "Epoch 19/50\n",
      "176/176 [==============================] - 1s 6ms/step - loss: 0.4215 - accuracy: 0.7972\n",
      "Epoch 20/50\n",
      "176/176 [==============================] - 1s 5ms/step - loss: 0.4225 - accuracy: 0.8005\n",
      "Epoch 21/50\n",
      "176/176 [==============================] - 1s 6ms/step - loss: 0.4183 - accuracy: 0.8000\n",
      "Epoch 22/50\n",
      "176/176 [==============================] - 1s 5ms/step - loss: 0.4153 - accuracy: 0.8016\n",
      "Epoch 23/50\n",
      "176/176 [==============================] - 1s 5ms/step - loss: 0.4144 - accuracy: 0.8027\n",
      "Epoch 24/50\n",
      "176/176 [==============================] - 1s 6ms/step - loss: 0.4208 - accuracy: 0.8028\n",
      "Epoch 25/50\n",
      "176/176 [==============================] - 1s 5ms/step - loss: 0.4198 - accuracy: 0.8028\n",
      "Epoch 26/50\n",
      "176/176 [==============================] - 1s 5ms/step - loss: 0.4161 - accuracy: 0.8057\n",
      "Epoch 27/50\n",
      "176/176 [==============================] - 1s 6ms/step - loss: 0.4150 - accuracy: 0.8037\n",
      "Epoch 28/50\n",
      "176/176 [==============================] - 1s 6ms/step - loss: 0.4185 - accuracy: 0.8011\n",
      "Epoch 29/50\n",
      "176/176 [==============================] - 1s 7ms/step - loss: 0.4126 - accuracy: 0.8087\n",
      "Epoch 30/50\n",
      "176/176 [==============================] - 1s 5ms/step - loss: 0.4127 - accuracy: 0.8107\n",
      "Epoch 31/50\n",
      "176/176 [==============================] - 1s 6ms/step - loss: 0.4104 - accuracy: 0.8089\n",
      "Epoch 32/50\n",
      "176/176 [==============================] - 1s 6ms/step - loss: 0.4106 - accuracy: 0.8069\n",
      "Epoch 33/50\n",
      "176/176 [==============================] - 1s 6ms/step - loss: 0.4103 - accuracy: 0.8082\n",
      "Epoch 34/50\n",
      "176/176 [==============================] - 1s 6ms/step - loss: 0.4031 - accuracy: 0.8098\n",
      "Epoch 35/50\n",
      "176/176 [==============================] - 1s 5ms/step - loss: 0.4056 - accuracy: 0.8069\n",
      "Epoch 36/50\n",
      "176/176 [==============================] - 1s 5ms/step - loss: 0.4060 - accuracy: 0.8126\n",
      "Epoch 37/50\n",
      "176/176 [==============================] - 1s 5ms/step - loss: 0.4051 - accuracy: 0.8059\n",
      "Epoch 38/50\n",
      "176/176 [==============================] - 1s 6ms/step - loss: 0.4041 - accuracy: 0.8110\n",
      "Epoch 39/50\n",
      "176/176 [==============================] - 1s 5ms/step - loss: 0.4054 - accuracy: 0.8094\n",
      "Epoch 40/50\n",
      "176/176 [==============================] - 1s 5ms/step - loss: 0.4076 - accuracy: 0.8148\n",
      "Epoch 41/50\n",
      "176/176 [==============================] - 1s 6ms/step - loss: 0.4016 - accuracy: 0.8148\n",
      "Epoch 42/50\n",
      "176/176 [==============================] - 1s 6ms/step - loss: 0.3986 - accuracy: 0.8158\n",
      "Epoch 43/50\n",
      "176/176 [==============================] - 1s 5ms/step - loss: 0.4023 - accuracy: 0.8066\n",
      "Epoch 44/50\n",
      "176/176 [==============================] - 1s 5ms/step - loss: 0.4021 - accuracy: 0.8066\n",
      "Epoch 45/50\n",
      "176/176 [==============================] - 1s 5ms/step - loss: 0.4010 - accuracy: 0.8133\n",
      "Epoch 46/50\n",
      "176/176 [==============================] - 1s 5ms/step - loss: 0.3952 - accuracy: 0.8164\n",
      "Epoch 47/50\n",
      "176/176 [==============================] - 1s 6ms/step - loss: 0.3978 - accuracy: 0.8117\n",
      "Epoch 48/50\n",
      "176/176 [==============================] - 1s 6ms/step - loss: 0.3980 - accuracy: 0.8100\n",
      "Epoch 49/50\n",
      "176/176 [==============================] - 1s 5ms/step - loss: 0.3964 - accuracy: 0.8114\n",
      "Epoch 50/50\n",
      "176/176 [==============================] - 1s 5ms/step - loss: 0.3992 - accuracy: 0.8123\n"
     ]
    },
    {
     "data": {
      "text/plain": [
       "<keras.callbacks.History at 0x1b976c3bac0>"
      ]
     },
     "execution_count": 107,
     "metadata": {},
     "output_type": "execute_result"
    }
   ],
   "source": [
    "model = keras.Sequential([\n",
    "    keras.layers.Dense(100, input_shape = (26,), activation = 'relu'),\n",
    "    keras.layers.Dropout(0.5),\n",
    "    keras.layers.Dense(50, activation = 'relu'),\n",
    "    keras.layers.Dropout(0.5),\n",
    "    keras.layers.Dense(30, activation = 'relu'),\n",
    "    keras.layers.Dropout(0.5),\n",
    "    keras.layers.Dense(1, activation = 'sigmoid')\n",
    "])\n",
    "model.compile(optimizer = 'adam', loss = 'binary_crossentropy', metrics='accuracy')\n",
    "model.fit(xtrain, ytrain, epochs = 50)"
   ]
  },
  {
   "cell_type": "code",
   "execution_count": 108,
   "metadata": {},
   "outputs": [
    {
     "name": "stdout",
     "output_type": "stream",
     "text": [
      "44/44 [==============================] - 0s 2ms/step\n",
      "44/44 [==============================] - 0s 3ms/step - loss: 0.4526 - accuracy: 0.7932\n"
     ]
    },
    {
     "data": {
      "text/plain": [
       "[0.4525923430919647, 0.7931769490242004]"
      ]
     },
     "execution_count": 108,
     "metadata": {},
     "output_type": "execute_result"
    }
   ],
   "source": [
    "ypred = model.predict(xtest)\n",
    "model.evaluate(xtest, ytest)"
   ]
  },
  {
   "cell_type": "code",
   "execution_count": 109,
   "id": "03fb2a1b",
   "metadata": {},
   "outputs": [],
   "source": [
    "yt = []\n",
    "for i in ypred:\n",
    "    if i > 0.5:\n",
    "        yt.append(1)\n",
    "    else:\n",
    "        yt.append(0)"
   ]
  },
  {
   "cell_type": "code",
   "execution_count": 110,
   "id": "c3db37ef",
   "metadata": {},
   "outputs": [
    {
     "name": "stdout",
     "output_type": "stream",
     "text": [
      "              precision    recall  f1-score   support\n",
      "\n",
      "           0       0.86      0.86      0.86      1031\n",
      "           1       0.61      0.61      0.61       376\n",
      "\n",
      "    accuracy                           0.79      1407\n",
      "   macro avg       0.74      0.73      0.73      1407\n",
      "weighted avg       0.79      0.79      0.79      1407\n",
      "\n"
     ]
    }
   ],
   "source": [
    "print(classification_report(yt, ytest))"
   ]
  },
  {
   "cell_type": "markdown",
   "id": "b491418d",
   "metadata": {},
   "source": [
    "#### Best Model\n",
    "\n",
    "According to my dataset ANN with hidden layers having 'relu' activation function, last layer with 'sigmoid' with inbetween dropout layers perfoms well compared to other models "
   ]
  },
  {
   "cell_type": "markdown",
   "id": "29ddd0f9",
   "metadata": {},
   "source": [
    "#### Model Findings and Insights\n",
    "\n",
    "My best model has the fair precision, recall and f1-score with accuracy of 79"
   ]
  }
 ],
 "metadata": {
  "kernelspec": {
   "display_name": "Python 3.10.7 64-bit",
   "language": "python",
   "name": "python3"
  },
  "language_info": {
   "codemirror_mode": {
    "name": "ipython",
    "version": 3
   },
   "file_extension": ".py",
   "mimetype": "text/x-python",
   "name": "python",
   "nbconvert_exporter": "python",
   "pygments_lexer": "ipython3",
   "version": "3.10.7"
  },
  "vscode": {
   "interpreter": {
    "hash": "30f7c703543b98f74a265370aeedf5f5cf7efc2f0baf29f81611cc4f6bf8c141"
   }
  }
 },
 "nbformat": 4,
 "nbformat_minor": 5
}
